{
 "cells": [
  {
   "cell_type": "markdown",
   "metadata": {},
   "source": [
    "# Document Classification\n",
    "\n",
    "To explore the objectives of this project refer to [Read Me.](README.md)\n",
    "\n",
    "If you are running this project for the first time, first make sure you have all the libraries with:\n",
    "```\n",
    "pip install -r requirements.txt\n",
    "```\n",
    "\n",
    "Then run `main.py` to collect online resources with:\n",
    "```\n",
    "py main.py\n",
    "```\n",
    "\n",
    "This notebook deals with classification of blog posts."
   ]
  },
  {
   "cell_type": "code",
   "execution_count": 60,
   "metadata": {},
   "outputs": [],
   "source": [
    "# To shuffle data keys\n",
    "import numpy as np\n",
    "\n",
    "# To manipulate data\n",
    "from sklearn.feature_extraction.text import CountVectorizer, TfidfVectorizer\n",
    "\n",
    "# For measuring performance\n",
    "from sklearn.preprocessing import LabelEncoder\n",
    "from sklearn.model_selection import train_test_split, cross_validate\n",
    "from sklearn.metrics import accuracy_score, confusion_matrix, classification_report\n",
    "\n",
    "# For generating visual presentations\n",
    "import seaborn as sns\n",
    "import matplotlib.pyplot as plt\n",
    "\n",
    "# Classification models\n",
    "from sklearn.naive_bayes import MultinomialNB\n",
    "from sklearn.tree import DecisionTreeClassifier\n",
    "from sklearn.ensemble import RandomForestClassifier\n",
    "from sklearn.svm import SVC\n",
    "\n",
    "# For deep learning model\n",
    "import tensorflow as tf\n",
    "import keras\n",
    "from keras import layers\n",
    "\n",
    "# To access local resources\n",
    "import file_manager as fm"
   ]
  },
  {
   "cell_type": "markdown",
   "metadata": {},
   "source": [
    "## Preprocessing\n",
    "\n",
    "Classification models needs to be fed a `(data-class)` duo. To create the data part of this format, we are merging tokens into one full clean string and creating a list of strings in `str_list`. For the classes we are populating `tags` list as we go along. All access to the data block is done through shuffled keys for randomization."
   ]
  },
  {
   "cell_type": "code",
   "execution_count": 61,
   "metadata": {},
   "outputs": [],
   "source": [
    "links = fm.get(\"_all_links\")\n",
    "data_block = fm.get(\"_data_block\")\n",
    "str_list = []\n",
    "tags = []\n",
    "\n",
    "keys = np.array(list(data_block.keys()))\n",
    "np.random.shuffle(keys)\n",
    "for k in keys:\n",
    "\tfull_string = \" \".join([token for token in data_block[k]['tokens'] if len(token) >= 2])\n",
    "\tstr_list.append(full_string)\n",
    "\ttags.append(data_block[k]['tag'])"
   ]
  },
  {
   "cell_type": "markdown",
   "metadata": {},
   "source": [
    "## Streamlining\n",
    "\n",
    "The functions below are used in model training section to streamline the training and validation process, and provide readablity to code snippets."
   ]
  },
  {
   "cell_type": "code",
   "execution_count": 62,
   "metadata": {},
   "outputs": [],
   "source": [
    "def cross_validation_wrapper(data, labels, vector_type, model, test_split_ratio = 0.1):\n",
    "\tX_train, X_test, y_train, y_test = data_formatter(data, labels, vector_type, test_split_ratio)\n",
    "\tresults = cross_validation(model, X_train, y_train, 10)\n",
    "\tshowResults(results)"
   ]
  },
  {
   "cell_type": "code",
   "execution_count": 63,
   "metadata": {},
   "outputs": [],
   "source": [
    "def data_formatter(data, labels, vec_type, test_size = 0.1):\n",
    "\tif vec_type == 'bow':\n",
    "\t\tcv = CountVectorizer()\n",
    "\t\tX = cv.fit_transform(data)\n",
    "\telif vec_type == 'tfidf':\n",
    "\t\ttfidf = TfidfVectorizer()\n",
    "\t\tX = tfidf.fit_transform(data)\n",
    "\t\t\n",
    "\tle = LabelEncoder()\n",
    "\ty = le.fit_transform(labels)\n",
    "\treturn train_test_split(X, y, test_size = test_size)"
   ]
  },
  {
   "cell_type": "markdown",
   "metadata": {},
   "source": [
    "### Cross Validation\n",
    "\n",
    "Cross-validation, sometimes called rotation estimation or out-of-sample testing, is any of various similar model validation techniques for assessing how the results of a statistical analysis will generalize to an independent data set. Cross-validation is a resampling method that uses different portions of the data to test and train a model on different iterations. It is mainly used in settings where the goal is prediction, and one wants to estimate how accurately a predictive model will perform in practice. In a prediction problem, a model is usually given a dataset of known data on which training is run (training dataset), and a dataset of unknown data (or first seen data) against which the model is tested (called the validation dataset or testing set). The goal of cross-validation is to test the model's ability to predict new data that was not used in estimating it, in order to flag problems like overfitting or selection bias and to give an insight on how the model will generalize to an independent dataset (i.e., an unknown dataset, for instance from a real problem).\n",
    "\n",
    "In k-fold cross-validation, the original sample is randomly partitioned into k equal sized subsamples. Of the k subsamples, a single subsample is retained as the validation data for testing the model, and the remaining k − 1 subsamples are used as training data. The cross-validation process is then repeated k times, with each of the k subsamples used exactly once as the validation data. The k results can then be averaged to produce a single estimation. The advantage of this method over repeated random sub-sampling (see below) is that all observations are used for both training and validation, and each observation is used for validation exactly once. 10-fold cross-validation is commonly used, but in general k remains an unfixed parameter."
   ]
  },
  {
   "cell_type": "code",
   "execution_count": 64,
   "metadata": {},
   "outputs": [],
   "source": [
    "def cross_validation(model, _X, _y, _cv = 10):\n",
    "\t'''Function to perform K-Fold Cross-Validation\n",
    "\t  Parameters\n",
    "\t  ----------\n",
    "\t model: Python Class, default=None\n",
    "\t\t    This is the machine learning algorithm to be used for training.\n",
    "\t _X: array\n",
    "\t\t This is the matrix of features.\n",
    "\t _y: array\n",
    "\t\t This is the target variable.\n",
    "\t _cv: int\n",
    "\t\tDetermines the number of folds for cross-validation.\n",
    "\t  Returns\n",
    "\t  -------\n",
    "\t  The function returns a dictionary containing the metrics 'accuracy', 'precision',\n",
    "\t  'recall', 'f1' for both training set and validation set.\n",
    "\t'''\n",
    "\t_scoring = ['accuracy', 'precision', 'recall', 'f1']\n",
    "\tresults = cross_validate(estimator=model,\n",
    "\t\t\t\t\t\t X=_X,\n",
    "\t\t\t\t\t\t y=_y,\n",
    "\t\t\t\t\t\t cv=_cv,\n",
    "\t\t\t\t\t\t scoring=_scoring,\n",
    "\t\t\t\t\t\t return_train_score=True)\n",
    "\t\n",
    "\treturn {\"Training Accuracy scores\": results['train_accuracy'],\n",
    "\t\t    \"Mean Training Accuracy\": results['train_accuracy'].mean()*100,\n",
    "\t\t    \"Training Precision scores\": results['train_precision'],\n",
    "\t\t    \"Mean Training Precision\": results['train_precision'].mean(),\n",
    "\t\t    \"Training Recall scores\": results['train_recall'],\n",
    "\t\t    \"Mean Training Recall\": results['train_recall'].mean(),\n",
    "\t\t    \"Training F1 scores\": results['train_f1'],\n",
    "\t\t    \"Mean Training F1 Score\": results['train_f1'].mean(),\n",
    "\t\t    \"Validation Accuracy scores\": results['test_accuracy'],\n",
    "\t\t    \"Mean Validation Accuracy\": results['test_accuracy'].mean()*100,\n",
    "\t\t    \"Validation Precision scores\": results['test_precision'],\n",
    "\t\t    \"Mean Validation Precision\": results['test_precision'].mean(),\n",
    "\t\t    \"Validation Recall scores\": results['test_recall'],\n",
    "\t\t    \"Mean Validation Recall\": results['test_recall'].mean(),\n",
    "\t\t    \"Validation F1 scores\": results['test_f1'],\n",
    "\t\t    \"Mean Validation F1 Score\": results['test_f1'].mean()\n",
    "\t\t    }"
   ]
  },
  {
   "cell_type": "markdown",
   "metadata": {},
   "source": [
    "### Training\n",
    "\n",
    "Regardless of the model we want to train the model, get an accuracy rating, create a report, and generate a heatmap of confusion matrix of its performance. All of this helps us measure the performace of each model and compare them with each other. Instead of copy-pasting the same code, we have created a pipeline for it in this function."
   ]
  },
  {
   "cell_type": "code",
   "execution_count": 65,
   "metadata": {},
   "outputs": [],
   "source": [
    "def trainModel(estimator, data, tags, vector_type, test_split_ratio):\n",
    "\tX_train, X_test, y_train, y_test = data_formatter(data, tags, vector_type, test_split_ratio)\n",
    "\testimator.fit(X_train, y_train)\n",
    "\ty_pred = estimator.predict(X_test)\n",
    "\tprint(f'Accuracy = {accuracy_score(y_test, y_pred)}')\n",
    "\tprint('Classification Report')\n",
    "\tprint(classification_report(y_test,y_pred))\n",
    "\tplt.figure(figsize = (5,5))\n",
    "\tsns.heatmap(confusion_matrix(y_test, y_pred), annot = True)\n",
    "\tplt.show()"
   ]
  },
  {
   "cell_type": "markdown",
   "metadata": {},
   "source": [
    "### Visualization"
   ]
  },
  {
   "cell_type": "code",
   "execution_count": 66,
   "metadata": {},
   "outputs": [],
   "source": [
    "def showResults(results):\n",
    "\tfor k in results.keys():\n",
    "\t\tprint(k)\n",
    "\t\ttry:\n",
    "\t\t\tfor i in range(len(results[k])):\n",
    "\t\t\t\tprint(f'{i}th Fold : ', results[k][i])\n",
    "\t\texcept Exception as e:\n",
    "\t\t\tprint(results[k])\n",
    "\treturn"
   ]
  },
  {
   "cell_type": "markdown",
   "metadata": {},
   "source": [
    "## Model Training\n",
    "\n",
    "We have trained 5 different models with %80 of the data as training dataset and used the rest %20 for testing purposes.\n",
    "\n",
    "These models are:\n",
    "- Multinomial Naive Bayes\n",
    "- Decision Tree\n",
    "- Random Forest\n",
    "- Support Vector Machines(SVM)\n",
    "- Recurrent Neural Network(RNN)\n",
    "\n",
    "For each model we have used non-weighted and TF-IDF weighted version of the data and will be comparing them as we go along.\n",
    "\n",
    "---\n"
   ]
  },
  {
   "cell_type": "markdown",
   "metadata": {},
   "source": [
    "### Multinomial Naive Bayes\n",
    "\n",
    "The Multinomial Naive Bayes algorithm is a Bayesian learning approach popular in Natural Language Processing (NLP). The algorithm guesses the tag of a text, such as an email or a newspaper story, using the Bayes theorem. It calculates each tag's likelihood for a given sample and outputs the tag with the greatest chance."
   ]
  },
  {
   "cell_type": "markdown",
   "metadata": {},
   "source": [
    "#### BOW"
   ]
  },
  {
   "cell_type": "code",
   "execution_count": 67,
   "metadata": {},
   "outputs": [
    {
     "name": "stdout",
     "output_type": "stream",
     "text": [
      "Training Accuracy scores\n",
      "0th Fold :  0.9854545454545455\n",
      "1th Fold :  0.9890909090909091\n",
      "2th Fold :  0.9890909090909091\n",
      "3th Fold :  0.9927272727272727\n",
      "4th Fold :  0.9854545454545455\n",
      "5th Fold :  0.9854545454545455\n",
      "6th Fold :  0.9818840579710145\n",
      "7th Fold :  0.9891304347826086\n",
      "8th Fold :  0.9891304347826086\n",
      "9th Fold :  0.9855072463768116\n",
      "Mean Training Accuracy\n",
      "98.72924901185772\n",
      "Training Precision scores\n",
      "0th Fold :  0.983739837398374\n",
      "1th Fold :  0.9918032786885246\n",
      "2th Fold :  0.9838709677419355\n",
      "3th Fold :  1.0\n",
      "4th Fold :  0.983739837398374\n",
      "5th Fold :  0.983739837398374\n",
      "6th Fold :  0.9836065573770492\n",
      "7th Fold :  0.991869918699187\n",
      "8th Fold :  0.984\n",
      "9th Fold :  0.9838709677419355\n",
      "Mean Training Precision\n",
      "0.9870241202443755\n",
      "Training Recall scores\n",
      "0th Fold :  0.983739837398374\n",
      "1th Fold :  0.983739837398374\n",
      "2th Fold :  0.991869918699187\n",
      "3th Fold :  0.983739837398374\n",
      "4th Fold :  0.983739837398374\n",
      "5th Fold :  0.983739837398374\n",
      "6th Fold :  0.975609756097561\n",
      "7th Fold :  0.9838709677419355\n",
      "8th Fold :  0.9919354838709677\n",
      "9th Fold :  0.9838709677419355\n",
      "Mean Training Recall\n",
      "0.9845856281143457\n",
      "Training F1 scores\n",
      "0th Fold :  0.983739837398374\n",
      "1th Fold :  0.9877551020408164\n",
      "2th Fold :  0.9878542510121457\n",
      "3th Fold :  0.9918032786885246\n",
      "4th Fold :  0.983739837398374\n",
      "5th Fold :  0.983739837398374\n",
      "6th Fold :  0.9795918367346939\n",
      "7th Fold :  0.9878542510121457\n",
      "8th Fold :  0.9879518072289156\n",
      "9th Fold :  0.9838709677419355\n",
      "Mean Training F1 Score\n",
      "0.98579010066543\n",
      "Validation Accuracy scores\n",
      "0th Fold :  0.8064516129032258\n",
      "1th Fold :  0.9032258064516129\n",
      "2th Fold :  0.7741935483870968\n",
      "3th Fold :  0.9032258064516129\n",
      "4th Fold :  0.8709677419354839\n",
      "5th Fold :  1.0\n",
      "6th Fold :  0.9666666666666667\n",
      "7th Fold :  0.9333333333333333\n",
      "8th Fold :  0.9\n",
      "9th Fold :  1.0\n",
      "Mean Validation Accuracy\n",
      "90.58064516129033\n",
      "Validation Precision scores\n",
      "0th Fold :  0.75\n",
      "1th Fold :  0.8666666666666667\n",
      "2th Fold :  0.7333333333333333\n",
      "3th Fold :  0.8666666666666667\n",
      "4th Fold :  0.8571428571428571\n",
      "5th Fold :  1.0\n",
      "6th Fold :  0.9333333333333333\n",
      "7th Fold :  1.0\n",
      "8th Fold :  0.8571428571428571\n",
      "9th Fold :  1.0\n",
      "Mean Validation Precision\n",
      "0.8864285714285713\n",
      "Validation Recall scores\n",
      "0th Fold :  0.8571428571428571\n",
      "1th Fold :  0.9285714285714286\n",
      "2th Fold :  0.7857142857142857\n",
      "3th Fold :  0.9285714285714286\n",
      "4th Fold :  0.8571428571428571\n",
      "5th Fold :  1.0\n",
      "6th Fold :  1.0\n",
      "7th Fold :  0.8461538461538461\n",
      "8th Fold :  0.9230769230769231\n",
      "9th Fold :  1.0\n",
      "Mean Validation Recall\n",
      "0.9126373626373626\n",
      "Validation F1 scores\n",
      "0th Fold :  0.7999999999999999\n",
      "1th Fold :  0.896551724137931\n",
      "2th Fold :  0.7586206896551724\n",
      "3th Fold :  0.896551724137931\n",
      "4th Fold :  0.8571428571428571\n",
      "5th Fold :  1.0\n",
      "6th Fold :  0.9655172413793104\n",
      "7th Fold :  0.9166666666666666\n",
      "8th Fold :  0.888888888888889\n",
      "9th Fold :  1.0\n",
      "Mean Validation F1 Score\n",
      "0.8979939792008758\n"
     ]
    }
   ],
   "source": [
    "clf = MultinomialNB()\n",
    "cross_validation_wrapper(str_list, tags, 'bow', clf)"
   ]
  },
  {
   "cell_type": "code",
   "execution_count": 68,
   "metadata": {},
   "outputs": [
    {
     "name": "stdout",
     "output_type": "stream",
     "text": [
      "Accuracy = 0.9117647058823529\n",
      "Classification Report\n",
      "              precision    recall  f1-score   support\n",
      "\n",
      "           0       0.97      0.88      0.92        40\n",
      "           1       0.84      0.96      0.90        28\n",
      "\n",
      "    accuracy                           0.91        68\n",
      "   macro avg       0.91      0.92      0.91        68\n",
      "weighted avg       0.92      0.91      0.91        68\n",
      "\n"
     ]
    },
    {
     "data": {
      "image/png": "[encoded data removed]",
      "text/plain": [
       "<Figure size 360x360 with 2 Axes>"
      ]
     },
     "metadata": {},
     "output_type": "display_data"
    }
   ],
   "source": [
    "clf = MultinomialNB()\n",
    "trainModel(clf, str_list, tags, 'bow', 0.2)"
   ]
  },
  {
   "cell_type": "markdown",
   "metadata": {},
   "source": [
    "#### TF-IDF"
   ]
  },
  {
   "cell_type": "code",
   "execution_count": 69,
   "metadata": {},
   "outputs": [
    {
     "name": "stdout",
     "output_type": "stream",
     "text": [
      "Training Accuracy scores\n",
      "0th Fold :  0.9709090909090909\n",
      "1th Fold :  0.9745454545454545\n",
      "2th Fold :  0.9781818181818182\n",
      "3th Fold :  0.9745454545454545\n",
      "4th Fold :  0.9745454545454545\n",
      "5th Fold :  0.9745454545454545\n",
      "6th Fold :  0.9782608695652174\n",
      "7th Fold :  0.9818840579710145\n",
      "8th Fold :  0.9746376811594203\n",
      "9th Fold :  0.9782608695652174\n",
      "Mean Training Accuracy\n",
      "97.60316205533594\n",
      "Training Precision scores\n",
      "0th Fold :  1.0\n",
      "1th Fold :  0.9915254237288136\n",
      "2th Fold :  1.0\n",
      "3th Fold :  1.0\n",
      "4th Fold :  1.0\n",
      "5th Fold :  1.0\n",
      "6th Fold :  1.0\n",
      "7th Fold :  1.0\n",
      "8th Fold :  1.0\n",
      "9th Fold :  1.0\n",
      "Mean Training Precision\n",
      "0.9991525423728813\n",
      "Training Recall scores\n",
      "0th Fold :  0.9349593495934959\n",
      "1th Fold :  0.9512195121951219\n",
      "2th Fold :  0.9512195121951219\n",
      "3th Fold :  0.943089430894309\n",
      "4th Fold :  0.943089430894309\n",
      "5th Fold :  0.943089430894309\n",
      "6th Fold :  0.9516129032258065\n",
      "7th Fold :  0.9596774193548387\n",
      "8th Fold :  0.9435483870967742\n",
      "9th Fold :  0.9512195121951219\n",
      "Mean Training Recall\n",
      "0.9472724888539208\n",
      "Training F1 scores\n",
      "0th Fold :  0.9663865546218486\n",
      "1th Fold :  0.970954356846473\n",
      "2th Fold :  0.975\n",
      "3th Fold :  0.9707112970711297\n",
      "4th Fold :  0.9707112970711297\n",
      "5th Fold :  0.9707112970711297\n",
      "6th Fold :  0.9752066115702479\n",
      "7th Fold :  0.9794238683127572\n",
      "8th Fold :  0.970954356846473\n",
      "9th Fold :  0.975\n",
      "Mean Training F1 Score\n",
      "0.9725059639411189\n",
      "Validation Accuracy scores\n",
      "0th Fold :  0.9032258064516129\n",
      "1th Fold :  0.7419354838709677\n",
      "2th Fold :  0.9032258064516129\n",
      "3th Fold :  0.967741935483871\n",
      "4th Fold :  0.8387096774193549\n",
      "5th Fold :  0.967741935483871\n",
      "6th Fold :  0.8666666666666667\n",
      "7th Fold :  0.9333333333333333\n",
      "8th Fold :  0.9\n",
      "9th Fold :  0.8\n",
      "Mean Validation Accuracy\n",
      "88.22580645161293\n",
      "Validation Precision scores\n",
      "0th Fold :  0.9230769230769231\n",
      "1th Fold :  1.0\n",
      "2th Fold :  1.0\n",
      "3th Fold :  1.0\n",
      "4th Fold :  0.8461538461538461\n",
      "5th Fold :  1.0\n",
      "6th Fold :  1.0\n",
      "7th Fold :  1.0\n",
      "8th Fold :  0.9166666666666666\n",
      "9th Fold :  1.0\n",
      "Mean Validation Precision\n",
      "0.9685897435897436\n",
      "Validation Recall scores\n",
      "0th Fold :  0.8571428571428571\n",
      "1th Fold :  0.42857142857142855\n",
      "2th Fold :  0.7857142857142857\n",
      "3th Fold :  0.9285714285714286\n",
      "4th Fold :  0.7857142857142857\n",
      "5th Fold :  0.9285714285714286\n",
      "6th Fold :  0.6923076923076923\n",
      "7th Fold :  0.8461538461538461\n",
      "8th Fold :  0.8461538461538461\n",
      "9th Fold :  0.5714285714285714\n",
      "Mean Validation Recall\n",
      "0.767032967032967\n",
      "Validation F1 scores\n",
      "0th Fold :  0.888888888888889\n",
      "1th Fold :  0.6\n",
      "2th Fold :  0.88\n",
      "3th Fold :  0.962962962962963\n",
      "4th Fold :  0.8148148148148148\n",
      "5th Fold :  0.962962962962963\n",
      "6th Fold :  0.8181818181818181\n",
      "7th Fold :  0.9166666666666666\n",
      "8th Fold :  0.8799999999999999\n",
      "9th Fold :  0.7272727272727273\n",
      "Mean Validation F1 Score\n",
      "0.8451750841750842\n"
     ]
    }
   ],
   "source": [
    "clf = MultinomialNB()\n",
    "cross_validation_wrapper(str_list, tags, 'tfidf', clf)"
   ]
  },
  {
   "cell_type": "code",
   "execution_count": 70,
   "metadata": {},
   "outputs": [
    {
     "name": "stdout",
     "output_type": "stream",
     "text": [
      "Accuracy = 0.9264705882352942\n",
      "Classification Report\n",
      "              precision    recall  f1-score   support\n",
      "\n",
      "           0       0.89      1.00      0.94        40\n",
      "           1       1.00      0.82      0.90        28\n",
      "\n",
      "    accuracy                           0.93        68\n",
      "   macro avg       0.94      0.91      0.92        68\n",
      "weighted avg       0.93      0.93      0.93        68\n",
      "\n"
     ]
    },
    {
     "data": {
      "image/png": "[encoded data removed]",
      "text/plain": [
       "<Figure size 360x360 with 2 Axes>"
      ]
     },
     "metadata": {},
     "output_type": "display_data"
    }
   ],
   "source": [
    "clf = MultinomialNB()\n",
    "trainModel(clf, str_list, tags, 'tfidf', 0.2)"
   ]
  },
  {
   "cell_type": "markdown",
   "metadata": {},
   "source": [
    "### Decision Tree\n",
    "\n",
    "Decision tree classifiers provide a readable classification model that is potentially accurate in many different application contexts, including energy-based applications. The decision tree classifier creates the classification model by building a decision tree. Each node in the tree specifies a test on an attribute, each branch descending from that node corresponds to one of the possible values for that attribute. Each leaf represents class labels associated with the instance. Instances in the training set are classified by navigating them from the root of the tree down to a leaf, according to the outcome of the tests along the path."
   ]
  },
  {
   "cell_type": "markdown",
   "metadata": {},
   "source": [
    "#### BOW"
   ]
  },
  {
   "cell_type": "code",
   "execution_count": 71,
   "metadata": {},
   "outputs": [
    {
     "name": "stdout",
     "output_type": "stream",
     "text": [
      "Training Accuracy scores\n",
      "0th Fold :  1.0\n",
      "1th Fold :  1.0\n",
      "2th Fold :  1.0\n",
      "3th Fold :  1.0\n",
      "4th Fold :  1.0\n",
      "5th Fold :  1.0\n",
      "6th Fold :  1.0\n",
      "7th Fold :  1.0\n",
      "8th Fold :  1.0\n",
      "9th Fold :  1.0\n",
      "Mean Training Accuracy\n",
      "100.0\n",
      "Training Precision scores\n",
      "0th Fold :  1.0\n",
      "1th Fold :  1.0\n",
      "2th Fold :  1.0\n",
      "3th Fold :  1.0\n",
      "4th Fold :  1.0\n",
      "5th Fold :  1.0\n",
      "6th Fold :  1.0\n",
      "7th Fold :  1.0\n",
      "8th Fold :  1.0\n",
      "9th Fold :  1.0\n",
      "Mean Training Precision\n",
      "1.0\n",
      "Training Recall scores\n",
      "0th Fold :  1.0\n",
      "1th Fold :  1.0\n",
      "2th Fold :  1.0\n",
      "3th Fold :  1.0\n",
      "4th Fold :  1.0\n",
      "5th Fold :  1.0\n",
      "6th Fold :  1.0\n",
      "7th Fold :  1.0\n",
      "8th Fold :  1.0\n",
      "9th Fold :  1.0\n",
      "Mean Training Recall\n",
      "1.0\n",
      "Training F1 scores\n",
      "0th Fold :  1.0\n",
      "1th Fold :  1.0\n",
      "2th Fold :  1.0\n",
      "3th Fold :  1.0\n",
      "4th Fold :  1.0\n",
      "5th Fold :  1.0\n",
      "6th Fold :  1.0\n",
      "7th Fold :  1.0\n",
      "8th Fold :  1.0\n",
      "9th Fold :  1.0\n",
      "Mean Training F1 Score\n",
      "1.0\n",
      "Validation Accuracy scores\n",
      "0th Fold :  0.9354838709677419\n",
      "1th Fold :  0.967741935483871\n",
      "2th Fold :  0.967741935483871\n",
      "3th Fold :  0.8387096774193549\n",
      "4th Fold :  0.9354838709677419\n",
      "5th Fold :  0.9032258064516129\n",
      "6th Fold :  0.9333333333333333\n",
      "7th Fold :  1.0\n",
      "8th Fold :  0.7333333333333333\n",
      "9th Fold :  0.9666666666666667\n",
      "Mean Validation Accuracy\n",
      "91.81720430107528\n",
      "Validation Precision scores\n",
      "0th Fold :  0.9285714285714286\n",
      "1th Fold :  1.0\n",
      "2th Fold :  0.9333333333333333\n",
      "3th Fold :  0.8461538461538461\n",
      "4th Fold :  0.875\n",
      "5th Fold :  0.8666666666666667\n",
      "6th Fold :  0.875\n",
      "7th Fold :  1.0\n",
      "8th Fold :  0.7142857142857143\n",
      "9th Fold :  0.9333333333333333\n",
      "Mean Validation Precision\n",
      "0.8972344322344321\n",
      "Validation Recall scores\n",
      "0th Fold :  0.9285714285714286\n",
      "1th Fold :  0.9285714285714286\n",
      "2th Fold :  1.0\n",
      "3th Fold :  0.7857142857142857\n",
      "4th Fold :  1.0\n",
      "5th Fold :  0.9285714285714286\n",
      "6th Fold :  1.0\n",
      "7th Fold :  1.0\n",
      "8th Fold :  0.7142857142857143\n",
      "9th Fold :  1.0\n",
      "Mean Validation Recall\n",
      "0.9285714285714285\n",
      "Validation F1 scores\n",
      "0th Fold :  0.9285714285714286\n",
      "1th Fold :  0.962962962962963\n",
      "2th Fold :  0.9655172413793104\n",
      "3th Fold :  0.8148148148148148\n",
      "4th Fold :  0.9333333333333333\n",
      "5th Fold :  0.896551724137931\n",
      "6th Fold :  0.9333333333333333\n",
      "7th Fold :  1.0\n",
      "8th Fold :  0.7142857142857143\n",
      "9th Fold :  0.9655172413793104\n",
      "Mean Validation F1 Score\n",
      "0.9114887794198138\n"
     ]
    }
   ],
   "source": [
    "dtc = DecisionTreeClassifier()\n",
    "cross_validation_wrapper(str_list, tags, 'bow', dtc)"
   ]
  },
  {
   "cell_type": "code",
   "execution_count": 72,
   "metadata": {},
   "outputs": [
    {
     "name": "stdout",
     "output_type": "stream",
     "text": [
      "Accuracy = 0.9411764705882353\n",
      "Classification Report\n",
      "              precision    recall  f1-score   support\n",
      "\n",
      "           0       0.91      0.97      0.94        33\n",
      "           1       0.97      0.91      0.94        35\n",
      "\n",
      "    accuracy                           0.94        68\n",
      "   macro avg       0.94      0.94      0.94        68\n",
      "weighted avg       0.94      0.94      0.94        68\n",
      "\n"
     ]
    },
    {
     "data": {
      "image/png": "[encoded data removed]",
      "text/plain": [
       "<Figure size 360x360 with 2 Axes>"
      ]
     },
     "metadata": {},
     "output_type": "display_data"
    }
   ],
   "source": [
    "dtc = DecisionTreeClassifier()\n",
    "trainModel(dtc,str_list, tags, 'bow', 0.2)"
   ]
  },
  {
   "cell_type": "markdown",
   "metadata": {},
   "source": [
    "#### TF-IDF"
   ]
  },
  {
   "cell_type": "code",
   "execution_count": 73,
   "metadata": {},
   "outputs": [
    {
     "name": "stdout",
     "output_type": "stream",
     "text": [
      "Training Accuracy scores\n",
      "0th Fold :  1.0\n",
      "1th Fold :  1.0\n",
      "2th Fold :  1.0\n",
      "3th Fold :  1.0\n",
      "4th Fold :  1.0\n",
      "5th Fold :  1.0\n",
      "6th Fold :  1.0\n",
      "7th Fold :  1.0\n",
      "8th Fold :  1.0\n",
      "9th Fold :  1.0\n",
      "Mean Training Accuracy\n",
      "100.0\n",
      "Training Precision scores\n",
      "0th Fold :  1.0\n",
      "1th Fold :  1.0\n",
      "2th Fold :  1.0\n",
      "3th Fold :  1.0\n",
      "4th Fold :  1.0\n",
      "5th Fold :  1.0\n",
      "6th Fold :  1.0\n",
      "7th Fold :  1.0\n",
      "8th Fold :  1.0\n",
      "9th Fold :  1.0\n",
      "Mean Training Precision\n",
      "1.0\n",
      "Training Recall scores\n",
      "0th Fold :  1.0\n",
      "1th Fold :  1.0\n",
      "2th Fold :  1.0\n",
      "3th Fold :  1.0\n",
      "4th Fold :  1.0\n",
      "5th Fold :  1.0\n",
      "6th Fold :  1.0\n",
      "7th Fold :  1.0\n",
      "8th Fold :  1.0\n",
      "9th Fold :  1.0\n",
      "Mean Training Recall\n",
      "1.0\n",
      "Training F1 scores\n",
      "0th Fold :  1.0\n",
      "1th Fold :  1.0\n",
      "2th Fold :  1.0\n",
      "3th Fold :  1.0\n",
      "4th Fold :  1.0\n",
      "5th Fold :  1.0\n",
      "6th Fold :  1.0\n",
      "7th Fold :  1.0\n",
      "8th Fold :  1.0\n",
      "9th Fold :  1.0\n",
      "Mean Training F1 Score\n",
      "1.0\n",
      "Validation Accuracy scores\n",
      "0th Fold :  0.9032258064516129\n",
      "1th Fold :  0.9354838709677419\n",
      "2th Fold :  0.9032258064516129\n",
      "3th Fold :  0.8064516129032258\n",
      "4th Fold :  0.9354838709677419\n",
      "5th Fold :  0.8387096774193549\n",
      "6th Fold :  0.8\n",
      "7th Fold :  0.8\n",
      "8th Fold :  0.9333333333333333\n",
      "9th Fold :  0.9\n",
      "Mean Validation Accuracy\n",
      "87.55913978494624\n",
      "Validation Precision scores\n",
      "0th Fold :  0.9230769230769231\n",
      "1th Fold :  0.9285714285714286\n",
      "2th Fold :  0.8333333333333334\n",
      "3th Fold :  0.8461538461538461\n",
      "4th Fold :  1.0\n",
      "5th Fold :  0.9166666666666666\n",
      "6th Fold :  0.7222222222222222\n",
      "7th Fold :  0.7222222222222222\n",
      "8th Fold :  0.9285714285714286\n",
      "9th Fold :  0.9230769230769231\n",
      "Mean Validation Precision\n",
      "0.8743894993894994\n",
      "Validation Recall scores\n",
      "0th Fold :  0.8571428571428571\n",
      "1th Fold :  0.9285714285714286\n",
      "2th Fold :  1.0\n",
      "3th Fold :  0.7333333333333333\n",
      "4th Fold :  0.8666666666666667\n",
      "5th Fold :  0.7333333333333333\n",
      "6th Fold :  0.9285714285714286\n",
      "7th Fold :  0.9285714285714286\n",
      "8th Fold :  0.9285714285714286\n",
      "9th Fold :  0.8571428571428571\n",
      "Mean Validation Recall\n",
      "0.8761904761904763\n",
      "Validation F1 scores\n",
      "0th Fold :  0.888888888888889\n",
      "1th Fold :  0.9285714285714286\n",
      "2th Fold :  0.9090909090909091\n",
      "3th Fold :  0.7857142857142856\n",
      "4th Fold :  0.9285714285714286\n",
      "5th Fold :  0.8148148148148148\n",
      "6th Fold :  0.8125000000000001\n",
      "7th Fold :  0.8125000000000001\n",
      "8th Fold :  0.9285714285714286\n",
      "9th Fold :  0.888888888888889\n",
      "Mean Validation F1 Score\n",
      "0.8698112073112074\n"
     ]
    }
   ],
   "source": [
    "dtc = DecisionTreeClassifier()\n",
    "cross_validation_wrapper(str_list, tags, 'tfidf', dtc)\n"
   ]
  },
  {
   "cell_type": "code",
   "execution_count": 74,
   "metadata": {},
   "outputs": [
    {
     "name": "stdout",
     "output_type": "stream",
     "text": [
      "Accuracy = 0.8970588235294118\n",
      "Classification Report\n",
      "              precision    recall  f1-score   support\n",
      "\n",
      "           0       0.89      0.92      0.91        37\n",
      "           1       0.90      0.87      0.89        31\n",
      "\n",
      "    accuracy                           0.90        68\n",
      "   macro avg       0.90      0.89      0.90        68\n",
      "weighted avg       0.90      0.90      0.90        68\n",
      "\n"
     ]
    },
    {
     "data": {
      "image/png": "[encoded data removed]",
      "text/plain": [
       "<Figure size 360x360 with 2 Axes>"
      ]
     },
     "metadata": {},
     "output_type": "display_data"
    }
   ],
   "source": [
    "dtc = DecisionTreeClassifier()\n",
    "trainModel(dtc,str_list, tags, 'tfidf', 0.2)"
   ]
  },
  {
   "cell_type": "markdown",
   "metadata": {},
   "source": [
    "### Random Forest\n",
    "\n",
    "Random forests or random decision forests is an ensemble learning method for classification, regression and other tasks that operates by constructing a multitude of decision trees at training time. For classification tasks, the output of the random forest is the class selected by most trees. For regression tasks, the mean or average prediction of the individual trees is returned. Random decision forests correct for decision trees' habit of overfitting to their training set. Random forests generally outperform decision trees, but their accuracy is lower than gradient boosted trees. However, data characteristics can affect their performance."
   ]
  },
  {
   "cell_type": "markdown",
   "metadata": {},
   "source": [
    "#### BOW"
   ]
  },
  {
   "cell_type": "code",
   "execution_count": 75,
   "metadata": {},
   "outputs": [
    {
     "name": "stdout",
     "output_type": "stream",
     "text": [
      "Training Accuracy scores\n",
      "0th Fold :  0.9963636363636363\n",
      "1th Fold :  1.0\n",
      "2th Fold :  0.9963636363636363\n",
      "3th Fold :  1.0\n",
      "4th Fold :  1.0\n",
      "5th Fold :  1.0\n",
      "6th Fold :  0.9963768115942029\n",
      "7th Fold :  1.0\n",
      "8th Fold :  1.0\n",
      "9th Fold :  0.9963768115942029\n",
      "Mean Training Accuracy\n",
      "99.85480895915678\n",
      "Training Precision scores\n",
      "0th Fold :  0.9921875\n",
      "1th Fold :  1.0\n",
      "2th Fold :  1.0\n",
      "3th Fold :  1.0\n",
      "4th Fold :  1.0\n",
      "5th Fold :  1.0\n",
      "6th Fold :  1.0\n",
      "7th Fold :  1.0\n",
      "8th Fold :  1.0\n",
      "9th Fold :  1.0\n",
      "Mean Training Precision\n",
      "0.99921875\n",
      "Training Recall scores\n",
      "0th Fold :  1.0\n",
      "1th Fold :  1.0\n",
      "2th Fold :  0.9921259842519685\n",
      "3th Fold :  1.0\n",
      "4th Fold :  1.0\n",
      "5th Fold :  1.0\n",
      "6th Fold :  0.9921259842519685\n",
      "7th Fold :  1.0\n",
      "8th Fold :  1.0\n",
      "9th Fold :  0.9921259842519685\n",
      "Mean Training Recall\n",
      "0.9976377952755906\n",
      "Training F1 scores\n",
      "0th Fold :  0.996078431372549\n",
      "1th Fold :  1.0\n",
      "2th Fold :  0.9960474308300395\n",
      "3th Fold :  1.0\n",
      "4th Fold :  1.0\n",
      "5th Fold :  1.0\n",
      "6th Fold :  0.9960474308300395\n",
      "7th Fold :  1.0\n",
      "8th Fold :  1.0\n",
      "9th Fold :  0.9960474308300395\n",
      "Mean Training F1 Score\n",
      "0.9984220723862667\n",
      "Validation Accuracy scores\n",
      "0th Fold :  0.8387096774193549\n",
      "1th Fold :  0.9032258064516129\n",
      "2th Fold :  0.7419354838709677\n",
      "3th Fold :  0.8387096774193549\n",
      "4th Fold :  0.7741935483870968\n",
      "5th Fold :  0.8387096774193549\n",
      "6th Fold :  0.8333333333333334\n",
      "7th Fold :  1.0\n",
      "8th Fold :  0.9\n",
      "9th Fold :  0.9333333333333333\n",
      "Mean Validation Accuracy\n",
      "86.02150537634408\n",
      "Validation Precision scores\n",
      "0th Fold :  0.9090909090909091\n",
      "1th Fold :  0.8666666666666667\n",
      "2th Fold :  0.7142857142857143\n",
      "3th Fold :  0.7647058823529411\n",
      "4th Fold :  0.8888888888888888\n",
      "5th Fold :  0.9166666666666666\n",
      "6th Fold :  0.8\n",
      "7th Fold :  1.0\n",
      "8th Fold :  1.0\n",
      "9th Fold :  1.0\n",
      "Mean Validation Precision\n",
      "0.8860304727951787\n",
      "Validation Recall scores\n",
      "0th Fold :  0.7142857142857143\n",
      "1th Fold :  0.9285714285714286\n",
      "2th Fold :  0.7142857142857143\n",
      "3th Fold :  0.9285714285714286\n",
      "4th Fold :  0.5714285714285714\n",
      "5th Fold :  0.7333333333333333\n",
      "6th Fold :  0.8571428571428571\n",
      "7th Fold :  1.0\n",
      "8th Fold :  0.7857142857142857\n",
      "9th Fold :  0.8571428571428571\n",
      "Mean Validation Recall\n",
      "0.809047619047619\n",
      "Validation F1 scores\n",
      "0th Fold :  0.8\n",
      "1th Fold :  0.896551724137931\n",
      "2th Fold :  0.7142857142857143\n",
      "3th Fold :  0.8387096774193549\n",
      "4th Fold :  0.6956521739130435\n",
      "5th Fold :  0.8148148148148148\n",
      "6th Fold :  0.8275862068965518\n",
      "7th Fold :  1.0\n",
      "8th Fold :  0.88\n",
      "9th Fold :  0.923076923076923\n",
      "Mean Validation F1 Score\n",
      "0.8390677234544333\n"
     ]
    }
   ],
   "source": [
    "rfc = RandomForestClassifier(15)\n",
    "cross_validation_wrapper(str_list, tags, 'bow', rfc)\n"
   ]
  },
  {
   "cell_type": "code",
   "execution_count": 76,
   "metadata": {},
   "outputs": [
    {
     "name": "stdout",
     "output_type": "stream",
     "text": [
      "Accuracy = 0.8088235294117647\n",
      "Classification Report\n",
      "              precision    recall  f1-score   support\n",
      "\n",
      "           0       0.87      0.74      0.80        35\n",
      "           1       0.76      0.88      0.82        33\n",
      "\n",
      "    accuracy                           0.81        68\n",
      "   macro avg       0.81      0.81      0.81        68\n",
      "weighted avg       0.82      0.81      0.81        68\n",
      "\n"
     ]
    },
    {
     "data": {
      "image/png": "[encoded data removed]",
      "text/plain": [
       "<Figure size 360x360 with 2 Axes>"
      ]
     },
     "metadata": {},
     "output_type": "display_data"
    }
   ],
   "source": [
    "rfc = RandomForestClassifier(15)\n",
    "trainModel(rfc,str_list, tags, 'bow', 0.2)"
   ]
  },
  {
   "cell_type": "markdown",
   "metadata": {},
   "source": [
    "#### TF-IDF"
   ]
  },
  {
   "cell_type": "code",
   "execution_count": 77,
   "metadata": {},
   "outputs": [
    {
     "name": "stdout",
     "output_type": "stream",
     "text": [
      "Training Accuracy scores\n",
      "0th Fold :  0.9963636363636363\n",
      "1th Fold :  1.0\n",
      "2th Fold :  0.9963636363636363\n",
      "3th Fold :  1.0\n",
      "4th Fold :  0.9927272727272727\n",
      "5th Fold :  1.0\n",
      "6th Fold :  1.0\n",
      "7th Fold :  0.9963768115942029\n",
      "8th Fold :  1.0\n",
      "9th Fold :  1.0\n",
      "Mean Training Accuracy\n",
      "99.81831357048748\n",
      "Training Precision scores\n",
      "0th Fold :  1.0\n",
      "1th Fold :  1.0\n",
      "2th Fold :  0.9923076923076923\n",
      "3th Fold :  1.0\n",
      "4th Fold :  0.9848484848484849\n",
      "5th Fold :  1.0\n",
      "6th Fold :  1.0\n",
      "7th Fold :  1.0\n",
      "8th Fold :  1.0\n",
      "9th Fold :  1.0\n",
      "Mean Training Precision\n",
      "0.9977156177156177\n",
      "Training Recall scores\n",
      "0th Fold :  0.9922480620155039\n",
      "1th Fold :  1.0\n",
      "2th Fold :  1.0\n",
      "3th Fold :  1.0\n",
      "4th Fold :  1.0\n",
      "5th Fold :  1.0\n",
      "6th Fold :  1.0\n",
      "7th Fold :  0.9923076923076923\n",
      "8th Fold :  1.0\n",
      "9th Fold :  1.0\n",
      "Mean Training Recall\n",
      "0.9984555754323197\n",
      "Training F1 scores\n",
      "0th Fold :  0.9961089494163424\n",
      "1th Fold :  1.0\n",
      "2th Fold :  0.9961389961389961\n",
      "3th Fold :  1.0\n",
      "4th Fold :  0.9923664122137404\n",
      "5th Fold :  1.0\n",
      "6th Fold :  1.0\n",
      "7th Fold :  0.9961389961389961\n",
      "8th Fold :  1.0\n",
      "9th Fold :  1.0\n",
      "Mean Training F1 Score\n",
      "0.9980753353908074\n",
      "Validation Accuracy scores\n",
      "0th Fold :  0.7419354838709677\n",
      "1th Fold :  0.7096774193548387\n",
      "2th Fold :  0.7419354838709677\n",
      "3th Fold :  0.6451612903225806\n",
      "4th Fold :  0.8064516129032258\n",
      "5th Fold :  0.9032258064516129\n",
      "6th Fold :  0.9333333333333333\n",
      "7th Fold :  0.8666666666666667\n",
      "8th Fold :  0.8666666666666667\n",
      "9th Fold :  0.7333333333333333\n",
      "Mean Validation Accuracy\n",
      "79.48387096774194\n",
      "Validation Precision scores\n",
      "0th Fold :  0.7058823529411765\n",
      "1th Fold :  0.875\n",
      "2th Fold :  0.6666666666666666\n",
      "3th Fold :  0.6\n",
      "4th Fold :  0.9\n",
      "5th Fold :  1.0\n",
      "6th Fold :  0.875\n",
      "7th Fold :  0.9166666666666666\n",
      "8th Fold :  1.0\n",
      "9th Fold :  0.6666666666666666\n",
      "Mean Validation Precision\n",
      "0.8205882352941176\n",
      "Validation Recall scores\n",
      "0th Fold :  0.8\n",
      "1th Fold :  0.4666666666666667\n",
      "2th Fold :  0.9333333333333333\n",
      "3th Fold :  0.8\n",
      "4th Fold :  0.6428571428571429\n",
      "5th Fold :  0.7857142857142857\n",
      "6th Fold :  1.0\n",
      "7th Fold :  0.7857142857142857\n",
      "8th Fold :  0.7142857142857143\n",
      "9th Fold :  0.8571428571428571\n",
      "Mean Validation Recall\n",
      "0.7785714285714286\n",
      "Validation F1 scores\n",
      "0th Fold :  0.7500000000000001\n",
      "1th Fold :  0.608695652173913\n",
      "2th Fold :  0.7777777777777778\n",
      "3th Fold :  0.6857142857142857\n",
      "4th Fold :  0.75\n",
      "5th Fold :  0.88\n",
      "6th Fold :  0.9333333333333333\n",
      "7th Fold :  0.8461538461538461\n",
      "8th Fold :  0.8333333333333333\n",
      "9th Fold :  0.75\n",
      "Mean Validation F1 Score\n",
      "0.7815008228486489\n"
     ]
    }
   ],
   "source": [
    "rfc = RandomForestClassifier(15)\n",
    "cross_validation_wrapper(str_list, tags, 'tfidf', rfc)\n"
   ]
  },
  {
   "cell_type": "code",
   "execution_count": 78,
   "metadata": {},
   "outputs": [
    {
     "name": "stdout",
     "output_type": "stream",
     "text": [
      "Accuracy = 0.8970588235294118\n",
      "Classification Report\n",
      "              precision    recall  f1-score   support\n",
      "\n",
      "           0       0.90      0.92      0.91        38\n",
      "           1       0.90      0.87      0.88        30\n",
      "\n",
      "    accuracy                           0.90        68\n",
      "   macro avg       0.90      0.89      0.90        68\n",
      "weighted avg       0.90      0.90      0.90        68\n",
      "\n"
     ]
    },
    {
     "data": {
      "image/png": "[encoded data removed]",
      "text/plain": [
       "<Figure size 360x360 with 2 Axes>"
      ]
     },
     "metadata": {},
     "output_type": "display_data"
    }
   ],
   "source": [
    "rfc = RandomForestClassifier(15)\n",
    "trainModel(rfc,str_list, tags, 'tfidf', 0.2)"
   ]
  },
  {
   "cell_type": "markdown",
   "metadata": {},
   "source": [
    "### Support Vector Machines\n",
    "\n",
    "Support Vector Machines(SVM) are one of the most robust prediction methods, being based on statistical learning frameworks. Given a set of training examples, each marked as belonging to one of two categories, an SVM training algorithm builds a model that assigns new examples to one category or the other, making it a non-probabilistic binary linear classifier. SVM maps training examples to points in space so as to maximise the width of the gap between the two categories. New examples are then mapped into that same space and predicted to belong to a category based on which side of the gap they fall. In addition to performing linear classification, SVMs can efficiently perform a non-linear classification using what is called the kernel trick, implicitly mapping their inputs into high-dimensional feature spaces."
   ]
  },
  {
   "cell_type": "markdown",
   "metadata": {},
   "source": [
    "#### BOW"
   ]
  },
  {
   "cell_type": "code",
   "execution_count": 79,
   "metadata": {},
   "outputs": [
    {
     "name": "stdout",
     "output_type": "stream",
     "text": [
      "Training Accuracy scores\n",
      "0th Fold :  1.0\n",
      "1th Fold :  0.9963636363636363\n",
      "2th Fold :  1.0\n",
      "3th Fold :  1.0\n",
      "4th Fold :  1.0\n",
      "5th Fold :  1.0\n",
      "6th Fold :  1.0\n",
      "7th Fold :  0.9963768115942029\n",
      "8th Fold :  1.0\n",
      "9th Fold :  1.0\n",
      "Mean Training Accuracy\n",
      "99.9274044795784\n",
      "Training Precision scores\n",
      "0th Fold :  1.0\n",
      "1th Fold :  1.0\n",
      "2th Fold :  1.0\n",
      "3th Fold :  1.0\n",
      "4th Fold :  1.0\n",
      "5th Fold :  1.0\n",
      "6th Fold :  1.0\n",
      "7th Fold :  1.0\n",
      "8th Fold :  1.0\n",
      "9th Fold :  1.0\n",
      "Mean Training Precision\n",
      "1.0\n",
      "Training Recall scores\n",
      "0th Fold :  1.0\n",
      "1th Fold :  0.9920634920634921\n",
      "2th Fold :  1.0\n",
      "3th Fold :  1.0\n",
      "4th Fold :  1.0\n",
      "5th Fold :  1.0\n",
      "6th Fold :  1.0\n",
      "7th Fold :  0.9920634920634921\n",
      "8th Fold :  1.0\n",
      "9th Fold :  1.0\n",
      "Mean Training Recall\n",
      "0.9984126984126984\n",
      "Training F1 scores\n",
      "0th Fold :  1.0\n",
      "1th Fold :  0.9960159362549801\n",
      "2th Fold :  1.0\n",
      "3th Fold :  1.0\n",
      "4th Fold :  1.0\n",
      "5th Fold :  1.0\n",
      "6th Fold :  1.0\n",
      "7th Fold :  0.9960159362549801\n",
      "8th Fold :  1.0\n",
      "9th Fold :  1.0\n",
      "Mean Training F1 Score\n",
      "0.999203187250996\n",
      "Validation Accuracy scores\n",
      "0th Fold :  0.8387096774193549\n",
      "1th Fold :  0.7741935483870968\n",
      "2th Fold :  0.9032258064516129\n",
      "3th Fold :  0.8387096774193549\n",
      "4th Fold :  0.9032258064516129\n",
      "5th Fold :  0.9354838709677419\n",
      "6th Fold :  0.9\n",
      "7th Fold :  0.8666666666666667\n",
      "8th Fold :  0.8666666666666667\n",
      "9th Fold :  0.8\n",
      "Mean Validation Accuracy\n",
      "86.26881720430107\n",
      "Validation Precision scores\n",
      "0th Fold :  0.8\n",
      "1th Fold :  0.8888888888888888\n",
      "2th Fold :  0.8666666666666667\n",
      "3th Fold :  0.8\n",
      "4th Fold :  0.9230769230769231\n",
      "5th Fold :  1.0\n",
      "6th Fold :  0.9230769230769231\n",
      "7th Fold :  0.8571428571428571\n",
      "8th Fold :  0.8125\n",
      "9th Fold :  0.7857142857142857\n",
      "Mean Validation Precision\n",
      "0.8657066544566545\n",
      "Validation Recall scores\n",
      "0th Fold :  0.8571428571428571\n",
      "1th Fold :  0.5714285714285714\n",
      "2th Fold :  0.9285714285714286\n",
      "3th Fold :  0.8571428571428571\n",
      "4th Fold :  0.8571428571428571\n",
      "5th Fold :  0.8571428571428571\n",
      "6th Fold :  0.8571428571428571\n",
      "7th Fold :  0.8571428571428571\n",
      "8th Fold :  0.9285714285714286\n",
      "9th Fold :  0.7857142857142857\n",
      "Mean Validation Recall\n",
      "0.8357142857142857\n",
      "Validation F1 scores\n",
      "0th Fold :  0.8275862068965518\n",
      "1th Fold :  0.6956521739130435\n",
      "2th Fold :  0.896551724137931\n",
      "3th Fold :  0.8275862068965518\n",
      "4th Fold :  0.888888888888889\n",
      "5th Fold :  0.923076923076923\n",
      "6th Fold :  0.888888888888889\n",
      "7th Fold :  0.8571428571428571\n",
      "8th Fold :  0.8666666666666666\n",
      "9th Fold :  0.7857142857142857\n",
      "Mean Validation F1 Score\n",
      "0.8457754822222588\n"
     ]
    }
   ],
   "source": [
    "svc = SVC(kernel = 'linear')\n",
    "cross_validation_wrapper(str_list, tags, 'bow', svc)\n"
   ]
  },
  {
   "cell_type": "code",
   "execution_count": 80,
   "metadata": {},
   "outputs": [
    {
     "name": "stdout",
     "output_type": "stream",
     "text": [
      "Accuracy = 0.8676470588235294\n",
      "Classification Report\n",
      "              precision    recall  f1-score   support\n",
      "\n",
      "           0       0.90      0.88      0.89        42\n",
      "           1       0.81      0.85      0.83        26\n",
      "\n",
      "    accuracy                           0.87        68\n",
      "   macro avg       0.86      0.86      0.86        68\n",
      "weighted avg       0.87      0.87      0.87        68\n",
      "\n"
     ]
    },
    {
     "data": {
      "image/png": "[encoded data removed]",
      "text/plain": [
       "<Figure size 360x360 with 2 Axes>"
      ]
     },
     "metadata": {},
     "output_type": "display_data"
    }
   ],
   "source": [
    "svc = SVC(kernel = 'linear')\n",
    "trainModel(svc,str_list, tags, 'bow', 0.2)"
   ]
  },
  {
   "cell_type": "markdown",
   "metadata": {},
   "source": [
    "#### TF-IDF"
   ]
  },
  {
   "cell_type": "code",
   "execution_count": 81,
   "metadata": {},
   "outputs": [
    {
     "name": "stdout",
     "output_type": "stream",
     "text": [
      "Training Accuracy scores\n",
      "0th Fold :  1.0\n",
      "1th Fold :  0.9963636363636363\n",
      "2th Fold :  0.9963636363636363\n",
      "3th Fold :  0.9963636363636363\n",
      "4th Fold :  0.9963636363636363\n",
      "5th Fold :  0.9963636363636363\n",
      "6th Fold :  0.9963768115942029\n",
      "7th Fold :  0.9963768115942029\n",
      "8th Fold :  0.9963768115942029\n",
      "9th Fold :  0.9963768115942029\n",
      "Mean Training Accuracy\n",
      "99.67325428194994\n",
      "Training Precision scores\n",
      "0th Fold :  1.0\n",
      "1th Fold :  1.0\n",
      "2th Fold :  1.0\n",
      "3th Fold :  1.0\n",
      "4th Fold :  1.0\n",
      "5th Fold :  1.0\n",
      "6th Fold :  1.0\n",
      "7th Fold :  1.0\n",
      "8th Fold :  1.0\n",
      "9th Fold :  1.0\n",
      "Mean Training Precision\n",
      "1.0\n",
      "Training Recall scores\n",
      "0th Fold :  1.0\n",
      "1th Fold :  0.9919354838709677\n",
      "2th Fold :  0.9919354838709677\n",
      "3th Fold :  0.9919354838709677\n",
      "4th Fold :  0.9919354838709677\n",
      "5th Fold :  0.9919354838709677\n",
      "6th Fold :  0.9919354838709677\n",
      "7th Fold :  0.9919354838709677\n",
      "8th Fold :  0.992\n",
      "9th Fold :  0.992\n",
      "Mean Training Recall\n",
      "0.9927548387096774\n",
      "Training F1 scores\n",
      "0th Fold :  1.0\n",
      "1th Fold :  0.9959514170040485\n",
      "2th Fold :  0.9959514170040485\n",
      "3th Fold :  0.9959514170040485\n",
      "4th Fold :  0.9959514170040485\n",
      "5th Fold :  0.9959514170040485\n",
      "6th Fold :  0.9959514170040485\n",
      "7th Fold :  0.9959514170040485\n",
      "8th Fold :  0.9959839357429718\n",
      "9th Fold :  0.9959839357429718\n",
      "Mean Training F1 Score\n",
      "0.9963627790514284\n",
      "Validation Accuracy scores\n",
      "0th Fold :  0.8709677419354839\n",
      "1th Fold :  0.9032258064516129\n",
      "2th Fold :  0.967741935483871\n",
      "3th Fold :  0.967741935483871\n",
      "4th Fold :  0.8709677419354839\n",
      "5th Fold :  0.8709677419354839\n",
      "6th Fold :  0.9666666666666667\n",
      "7th Fold :  0.9333333333333333\n",
      "8th Fold :  0.9333333333333333\n",
      "9th Fold :  0.9\n",
      "Mean Validation Accuracy\n",
      "91.8494623655914\n",
      "Validation Precision scores\n",
      "0th Fold :  1.0\n",
      "1th Fold :  0.9230769230769231\n",
      "2th Fold :  1.0\n",
      "3th Fold :  1.0\n",
      "4th Fold :  1.0\n",
      "5th Fold :  1.0\n",
      "6th Fold :  0.9333333333333333\n",
      "7th Fold :  0.9285714285714286\n",
      "8th Fold :  1.0\n",
      "9th Fold :  1.0\n",
      "Mean Validation Precision\n",
      "0.9784981684981686\n",
      "Validation Recall scores\n",
      "0th Fold :  0.7142857142857143\n",
      "1th Fold :  0.8571428571428571\n",
      "2th Fold :  0.9285714285714286\n",
      "3th Fold :  0.9285714285714286\n",
      "4th Fold :  0.7142857142857143\n",
      "5th Fold :  0.7142857142857143\n",
      "6th Fold :  1.0\n",
      "7th Fold :  0.9285714285714286\n",
      "8th Fold :  0.8461538461538461\n",
      "9th Fold :  0.7692307692307693\n",
      "Mean Validation Recall\n",
      "0.8401098901098901\n",
      "Validation F1 scores\n",
      "0th Fold :  0.8333333333333333\n",
      "1th Fold :  0.888888888888889\n",
      "2th Fold :  0.962962962962963\n",
      "3th Fold :  0.962962962962963\n",
      "4th Fold :  0.8333333333333333\n",
      "5th Fold :  0.8333333333333333\n",
      "6th Fold :  0.9655172413793104\n",
      "7th Fold :  0.9285714285714286\n",
      "8th Fold :  0.9166666666666666\n",
      "9th Fold :  0.8695652173913044\n",
      "Mean Validation F1 Score\n",
      "0.8995135368823524\n"
     ]
    }
   ],
   "source": [
    "svc = SVC(kernel = 'linear')\n",
    "cross_validation_wrapper(str_list, tags, 'tfidf', svc)\n"
   ]
  },
  {
   "cell_type": "code",
   "execution_count": 82,
   "metadata": {},
   "outputs": [
    {
     "name": "stdout",
     "output_type": "stream",
     "text": [
      "Accuracy = 0.8970588235294118\n",
      "Classification Report\n",
      "              precision    recall  f1-score   support\n",
      "\n",
      "           0       0.85      0.97      0.91        36\n",
      "           1       0.96      0.81      0.88        32\n",
      "\n",
      "    accuracy                           0.90        68\n",
      "   macro avg       0.91      0.89      0.90        68\n",
      "weighted avg       0.91      0.90      0.90        68\n",
      "\n"
     ]
    },
    {
     "data": {
      "image/png": "[encoded data removed]",
      "text/plain": [
       "<Figure size 360x360 with 2 Axes>"
      ]
     },
     "metadata": {},
     "output_type": "display_data"
    }
   ],
   "source": [
    "svc = SVC(kernel = 'linear')\n",
    "trainModel(svc,str_list, tags, 'tfidf', 0.2)"
   ]
  },
  {
   "cell_type": "markdown",
   "metadata": {},
   "source": [
    "### Deep Learning"
   ]
  },
  {
   "cell_type": "markdown",
   "metadata": {},
   "source": [
    "#### Recurrent Neural Networks\n",
    "\n",
    "A recurrent neural network (RNN) is a class of artificial neural networks where connections between nodes form a directed or undirected graph along a temporal sequence. This allows it to exhibit temporal dynamic behavior. Derived from feedforward neural networks, RNNs can use their internal state (memory) to process variable length sequences of inputs. This makes them applicable to tasks such as unsegmented, connected handwriting recognition or speech recognition. Recurrent neural networks are theoretically Turing complete and can run arbitrary programs to process arbitrary sequences of inputs."
   ]
  },
  {
   "cell_type": "markdown",
   "metadata": {},
   "source": [
    "#### Data Reformatting\n",
    "\n",
    "We will be using Keras while building our deep learning model. Keras expects TensorFlow datasets so we need to create a TF dataset from our data. We split the data 9:1 for training vs testing. "
   ]
  },
  {
   "cell_type": "code",
   "execution_count": 83,
   "metadata": {},
   "outputs": [],
   "source": [
    "binary_tags = []\n",
    "for tag in tags:\n",
    "\tif tag == \"javascript\":\n",
    "\t\tbinary_tags.append(0)\n",
    "\telse:\n",
    "\t\tbinary_tags.append(1)\n",
    "\n",
    "train_str_list = tf.data.Dataset.from_tensor_slices(str_list[: int(len(str_list) * .9)])\n",
    "train_tags = tf.data.Dataset.from_tensor_slices(binary_tags[: int(len(binary_tags) * .9)])\n",
    "train_dataset = tf.data.Dataset.zip((train_str_list, train_tags))\n",
    "\n",
    "test_str_list = tf.data.Dataset.from_tensor_slices(str_list[int(len(str_list) * .9) :])\n",
    "test_tags = tf.data.Dataset.from_tensor_slices(binary_tags[int(len(binary_tags) * .9) :])\n",
    "test_dataset = tf.data.Dataset.zip((test_str_list, test_tags))"
   ]
  },
  {
   "cell_type": "markdown",
   "metadata": {},
   "source": [
    "Then we shuffle the training dataset for randomization and create size 64 batches from it for training."
   ]
  },
  {
   "cell_type": "code",
   "execution_count": 84,
   "metadata": {},
   "outputs": [],
   "source": [
    "BUFFER_SIZE = 1000\n",
    "BATCH_SIZE = 32\n",
    "train_dataset = train_dataset.shuffle(BUFFER_SIZE).batch(BATCH_SIZE).prefetch(tf.data.AUTOTUNE)\n",
    "test_dataset = test_dataset.batch(BATCH_SIZE).prefetch(tf.data.AUTOTUNE)"
   ]
  },
  {
   "cell_type": "markdown",
   "metadata": {},
   "source": [
    "Encoder helps us map text features to integer sequences, which are processed more easily by models."
   ]
  },
  {
   "cell_type": "code",
   "execution_count": 85,
   "metadata": {},
   "outputs": [],
   "source": [
    "VOCAB_SIZE = 1000\n",
    "encoder = layers.TextVectorization(max_tokens = VOCAB_SIZE)\n",
    "encoder.adapt(train_dataset.map(lambda text, label: text))"
   ]
  },
  {
   "cell_type": "markdown",
   "metadata": {},
   "source": [
    "A little sneak-peak at the first 20 words in the vocab."
   ]
  },
  {
   "cell_type": "code",
   "execution_count": 86,
   "metadata": {},
   "outputs": [
    {
     "data": {
      "text/plain": [
       "array(['', '[UNK]', 'code', 'function', 'data', 'python', 'use', 'value',\n",
       "       'time', 'let', 'using', 'one', 'like', 'need', 'user', 'create',\n",
       "       'javascript', 'get', 'project', 'example'], dtype='<U14')"
      ]
     },
     "execution_count": 86,
     "metadata": {},
     "output_type": "execute_result"
    }
   ],
   "source": [
    "vocab = np.array(encoder.get_vocabulary())\n",
    "vocab[:20]"
   ]
  },
  {
   "cell_type": "markdown",
   "metadata": {},
   "source": [
    "#### Model Creation"
   ]
  },
  {
   "cell_type": "code",
   "execution_count": 87,
   "metadata": {},
   "outputs": [],
   "source": [
    "model = keras.Sequential([\n",
    "\tencoder,\n",
    "\tlayers.Embedding(\n",
    "\t\tinput_dim = len(encoder.get_vocabulary()),\n",
    "\t\toutput_dim = 32,\n",
    "\t\t# Use masking to handle the variable sequence lengths\n",
    "\t\tmask_zero = True\n",
    "\t),\n",
    "\tlayers.Bidirectional(layers.LSTM(32)),\n",
    "\tlayers.Dense(32, activation='relu'),\n",
    "\tlayers.Dense(1)\n",
    "])\n",
    "\n",
    "model.compile(loss = keras.losses.BinaryCrossentropy(from_logits = True),\n",
    "\t\t\t  optimizer = keras.optimizers.adam_v2.Adam(1e-4),\n",
    "\t\t\t  metrics = ['accuracy'])"
   ]
  },
  {
   "cell_type": "code",
   "execution_count": 88,
   "metadata": {},
   "outputs": [
    {
     "name": "stdout",
     "output_type": "stream",
     "text": [
      "Epoch 1/12\n",
      "30/30 [==============================] - 19s 454ms/step - loss: 0.6916 - accuracy: 0.5327 - val_loss: 0.6901 - val_accuracy: 0.6176\n",
      "Epoch 2/12\n",
      "30/30 [==============================] - 14s 458ms/step - loss: 0.6894 - accuracy: 0.5327 - val_loss: 0.6882 - val_accuracy: 0.6176\n",
      "Epoch 3/12\n",
      "30/30 [==============================] - 13s 426ms/step - loss: 0.6866 - accuracy: 0.5327 - val_loss: 0.6855 - val_accuracy: 0.6176\n",
      "Epoch 4/12\n",
      "30/30 [==============================] - 11s 374ms/step - loss: 0.6823 - accuracy: 0.5327 - val_loss: 0.6818 - val_accuracy: 0.6176\n",
      "Epoch 5/12\n",
      "30/30 [==============================] - 12s 388ms/step - loss: 0.6749 - accuracy: 0.5327 - val_loss: 0.6759 - val_accuracy: 0.6176\n",
      "Epoch 6/12\n",
      "30/30 [==============================] - 11s 367ms/step - loss: 0.6601 - accuracy: 0.5327 - val_loss: 0.6625 - val_accuracy: 0.6176\n",
      "Epoch 7/12\n",
      "30/30 [==============================] - 11s 369ms/step - loss: 0.6123 - accuracy: 0.5327 - val_loss: 0.6325 - val_accuracy: 0.6176\n",
      "Epoch 8/12\n",
      "30/30 [==============================] - 12s 395ms/step - loss: 0.4741 - accuracy: 0.5327 - val_loss: 0.5375 - val_accuracy: 0.6176\n",
      "Epoch 9/12\n",
      "30/30 [==============================] - 11s 382ms/step - loss: 0.3718 - accuracy: 0.6656 - val_loss: 0.4842 - val_accuracy: 0.8235\n",
      "Epoch 10/12\n",
      "30/30 [==============================] - 12s 378ms/step - loss: 0.3132 - accuracy: 0.8780 - val_loss: 0.4962 - val_accuracy: 0.8529\n",
      "Epoch 11/12\n",
      "30/30 [==============================] - 12s 391ms/step - loss: 0.2807 - accuracy: 0.9205 - val_loss: 0.5991 - val_accuracy: 0.8529\n",
      "Epoch 12/12\n",
      "30/30 [==============================] - 11s 369ms/step - loss: 0.2469 - accuracy: 0.9521 - val_loss: 0.4726 - val_accuracy: 0.9118\n"
     ]
    }
   ],
   "source": [
    "history = model.fit(train_dataset.repeat(10000),\n",
    "\t\t\t\t\tepochs = 12,\n",
    "\t\t\t\t\tsteps_per_epoch = 30,\n",
    "\t\t\t\t\tvalidation_data = test_dataset.repeat(10000),\n",
    "\t\t\t\t\tvalidation_steps = 30)"
   ]
  },
  {
   "cell_type": "code",
   "execution_count": 89,
   "metadata": {},
   "outputs": [
    {
     "name": "stdout",
     "output_type": "stream",
     "text": [
      "2/2 [==============================] - 0s 18ms/step - loss: 0.4726 - accuracy: 0.9118\n",
      "Test Loss: 0.47256922721862793\n",
      "Test Accuracy: 0.9117646813392639\n"
     ]
    }
   ],
   "source": [
    "test_loss, test_acc = model.evaluate(test_dataset)\n",
    "\n",
    "print('Test Loss:', test_loss)\n",
    "print('Test Accuracy:', test_acc)"
   ]
  },
  {
   "cell_type": "markdown",
   "metadata": {},
   "source": [
    "## Comparison"
   ]
  }
 ],
 "metadata": {
  "interpreter": {
   "hash": "83c39cd358daf14d760cd33d4bf1546db4a8dd158f85b285ad4a1eed31142407"
  },
  "kernelspec": {
   "display_name": "Python 3.9.4 ('venv': venv)",
   "language": "python",
   "name": "python3"
  },
  "language_info": {
   "codemirror_mode": {
    "name": "ipython",
    "version": 3
   },
   "file_extension": ".py",
   "mimetype": "text/x-python",
   "name": "python",
   "nbconvert_exporter": "python",
   "pygments_lexer": "ipython3",
   "version": "3.9.4"
  }
 },
 "nbformat": 4,
 "nbformat_minor": 2
}
