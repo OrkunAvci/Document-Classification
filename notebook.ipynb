{
 "cells": [
  {
   "cell_type": "markdown",
   "metadata": {},
   "source": [
    "# Document Classification\n",
    "\n",
    "To explore the objectives of this project refer to [Read Me.](README.md)\n",
    "\n",
    "If you are running this project for the first time, first make sure you have all the libraries with:\n",
    "```\n",
    "pip install -r requirements.txt\n",
    "```\n",
    "\n",
    "Then run `main.py` to collect online resources with:\n",
    "```\n",
    "py main.py\n",
    "```\n",
    "\n",
    "This notebook deals with classification of blog posts. Links to resource files are done through Google Collabratory/Drive integration and should be adjusted to local paths if necessary."
   ]
  },
  {
   "cell_type": "code",
   "execution_count": 324,
   "metadata": {},
   "outputs": [],
   "source": [
    "import numpy as np\n",
    "from sklearn.preprocessing import LabelEncoder\n",
    "from sklearn.model_selection import train_test_split, cross_validate\n",
    "from sklearn.metrics import accuracy_score, confusion_matrix, classification_report\n",
    "import seaborn as sns\n",
    "import matplotlib.pyplot as plt"
   ]
  },
  {
   "cell_type": "code",
   "execution_count": 287,
   "metadata": {},
   "outputs": [],
   "source": [
    "from sklearn.naive_bayes import MultinomialNB\n",
    "from sklearn.tree import DecisionTreeClassifier\n",
    "from sklearn.ensemble import RandomForestClassifier\n",
    "from sklearn.svm import SVC\n",
    "from sklearn.decomposition import PCA, TruncatedSVD"
   ]
  },
  {
   "cell_type": "code",
   "execution_count": 288,
   "metadata": {},
   "outputs": [],
   "source": [
    "# Clean up tokens\n",
    "import file_manager as fm\n",
    "from sklearn.feature_extraction.text import CountVectorizer, TfidfVectorizer\n",
    "links = fm.get(\"_all_links\")\n",
    "data_block = fm.get(\"_data_block\")\n",
    "str_list = []\n",
    "tags = []\n",
    "keys = np.array(list(data_block.keys()))\n",
    "np.random.shuffle(keys)\n",
    "for k in keys:\n",
    "    full_string = \" \".join([token for token in data_block[k]['tokens'] if len(token) >= 2])\n",
    "    str_list.append(full_string)\n",
    "    tags.append(data_block[k]['tag'])\n"
   ]
  },
  {
   "cell_type": "code",
   "execution_count": 321,
   "metadata": {},
   "outputs": [],
   "source": [
    "def cross_validation_wrapper(data, labels, vector_type, test_split_ratio, model):\n",
    "    X_train, X_test, y_train, y_test = data_formatter(data, labels, vector_type, test_split_ratio)\n",
    "    results = cross_validation(model, X_train, y_train, 10)\n",
    "    showResults(results)"
   ]
  },
  {
   "cell_type": "code",
   "execution_count": 317,
   "metadata": {},
   "outputs": [],
   "source": [
    "def data_formatter(data, labels, vec_type, test_size = 0.1):\n",
    "    if vec_type == 'bow':\n",
    "        cv = CountVectorizer()\n",
    "        X = cv.fit_transform(data)\n",
    "    elif vec_type == 'tfidf':\n",
    "        tfidf = TfidfVectorizer()\n",
    "        X = tfidf.fit_transform(data)\n",
    "        \n",
    "    # svd = TruncatedSVD(n_components = 10, random_state = 123)\n",
    "    # = svd.fit_transform(X)\n",
    "    le = LabelEncoder()\n",
    "    y = le.fit_transform(labels)\n",
    "    return train_test_split(X, y, test_size = test_size)"
   ]
  },
  {
   "cell_type": "code",
   "execution_count": 290,
   "metadata": {},
   "outputs": [
    {
     "data": {
      "text/plain": [
       "340"
      ]
     },
     "execution_count": 290,
     "metadata": {},
     "output_type": "execute_result"
    }
   ],
   "source": [
    "len(str_list)"
   ]
  },
  {
   "cell_type": "code",
   "execution_count": null,
   "metadata": {},
   "outputs": [],
   "source": []
  },
  {
   "cell_type": "code",
   "execution_count": 306,
   "metadata": {},
   "outputs": [],
   "source": [
    "def cross_validation(model, _X, _y, _cv=5):\n",
    "      '''Function to perform 5 Folds Cross-Validation\n",
    "       Parameters\n",
    "       ----------\n",
    "      model: Python Class, default=None\n",
    "              This is the machine learning algorithm to be used for training.\n",
    "      _X: array\n",
    "           This is the matrix of features.\n",
    "      _y: array\n",
    "           This is the target variable.\n",
    "      _cv: int, default=5\n",
    "          Determines the number of folds for cross-validation.\n",
    "       Returns\n",
    "       -------\n",
    "       The function returns a dictionary containing the metrics 'accuracy', 'precision',\n",
    "       'recall', 'f1' for both training set and validation set.\n",
    "      '''\n",
    "      _scoring = ['accuracy', 'precision', 'recall', 'f1']\n",
    "      results = cross_validate(estimator=model,\n",
    "                               X=_X,\n",
    "                               y=_y,\n",
    "                               cv=_cv,\n",
    "                               scoring=_scoring,\n",
    "                               return_train_score=True)\n",
    "      \n",
    "      return {\"Training Accuracy scores\": results['train_accuracy'],\n",
    "              \"Mean Training Accuracy\": results['train_accuracy'].mean()*100,\n",
    "              \"Training Precision scores\": results['train_precision'],\n",
    "              \"Mean Training Precision\": results['train_precision'].mean(),\n",
    "              \"Training Recall scores\": results['train_recall'],\n",
    "              \"Mean Training Recall\": results['train_recall'].mean(),\n",
    "              \"Training F1 scores\": results['train_f1'],\n",
    "              \"Mean Training F1 Score\": results['train_f1'].mean(),\n",
    "              \"Validation Accuracy scores\": results['test_accuracy'],\n",
    "              \"Mean Validation Accuracy\": results['test_accuracy'].mean()*100,\n",
    "              \"Validation Precision scores\": results['test_precision'],\n",
    "              \"Mean Validation Precision\": results['test_precision'].mean(),\n",
    "              \"Validation Recall scores\": results['test_recall'],\n",
    "              \"Mean Validation Recall\": results['test_recall'].mean(),\n",
    "              \"Validation F1 scores\": results['test_f1'],\n",
    "              \"Mean Validation F1 Score\": results['test_f1'].mean()\n",
    "              }"
   ]
  },
  {
   "cell_type": "code",
   "execution_count": 300,
   "metadata": {},
   "outputs": [],
   "source": [
    "def showResults(results):\n",
    "    for k in results.keys():\n",
    "        print(k)\n",
    "        try:\n",
    "            for i in range(len(results[k])):\n",
    "                print(f'{i}th Fold : ', results[k][i])\n",
    "        except Exception as e:\n",
    "            print(results[k])\n",
    "    return"
   ]
  },
  {
   "cell_type": "code",
   "execution_count": 334,
   "metadata": {},
   "outputs": [],
   "source": [
    "def trainModel(estimator, data, tags, vector_type, test_split_ratio):\n",
    "    X_train, X_test, y_train, y_test = data_formatter(data, tags, vector_type, test_split_ratio)\n",
    "    estimator.fit(X_train, y_train)\n",
    "    y_pred = estimator.predict(X_test)\n",
    "    print(f'Accuracy = {accuracy_score(y_test, y_pred)}')\n",
    "    print('Classification Report')\n",
    "    print(classification_report(y_test,y_pred))\n",
    "    plt.figure(figsize = (5,5))\n",
    "    sns.heatmap(confusion_matrix(y_test, y_pred), annot = True)\n",
    "    plt.show()"
   ]
  },
  {
   "cell_type": "markdown",
   "metadata": {},
   "source": [
    "## MULTINOMIAL NAIVE BAYES"
   ]
  },
  {
   "cell_type": "markdown",
   "metadata": {},
   "source": [
    "### BOW"
   ]
  },
  {
   "cell_type": "code",
   "execution_count": 323,
   "metadata": {},
   "outputs": [
    {
     "name": "stdout",
     "output_type": "stream",
     "text": [
      "Training Accuracy scores\n",
      "0th Fold :  0.9836065573770492\n",
      "1th Fold :  0.9901639344262295\n",
      "2th Fold :  0.9868852459016394\n",
      "3th Fold :  0.9836065573770492\n",
      "4th Fold :  0.9803921568627451\n",
      "5th Fold :  0.9869281045751634\n",
      "6th Fold :  0.9869706840390879\n",
      "7th Fold :  0.990228013029316\n",
      "8th Fold :  0.993485342019544\n",
      "9th Fold :  0.9869706840390879\n",
      "Mean Training Accuracy\n",
      "98.69237279646912\n",
      "Training Precision scores\n",
      "0th Fold :  0.9927007299270073\n",
      "1th Fold :  0.9928057553956835\n",
      "2th Fold :  0.9857142857142858\n",
      "3th Fold :  0.9856115107913669\n",
      "4th Fold :  0.9855072463768116\n",
      "5th Fold :  0.9857142857142858\n",
      "6th Fold :  0.9858156028368794\n",
      "7th Fold :  0.9859154929577465\n",
      "8th Fold :  1.0\n",
      "9th Fold :  0.9858156028368794\n",
      "Mean Training Precision\n",
      "0.9885600512550946\n",
      "Training Recall scores\n",
      "0th Fold :  0.9714285714285714\n",
      "1th Fold :  0.9857142857142858\n",
      "2th Fold :  0.9857142857142858\n",
      "3th Fold :  0.9785714285714285\n",
      "4th Fold :  0.9714285714285714\n",
      "5th Fold :  0.9857142857142858\n",
      "6th Fold :  0.9858156028368794\n",
      "7th Fold :  0.9929078014184397\n",
      "8th Fold :  0.9858156028368794\n",
      "9th Fold :  0.9858156028368794\n",
      "Mean Training Recall\n",
      "0.9828926038500507\n",
      "Training F1 scores\n",
      "0th Fold :  0.9819494584837546\n",
      "1th Fold :  0.989247311827957\n",
      "2th Fold :  0.9857142857142858\n",
      "3th Fold :  0.9820788530465949\n",
      "4th Fold :  0.9784172661870504\n",
      "5th Fold :  0.9857142857142858\n",
      "6th Fold :  0.9858156028368794\n",
      "7th Fold :  0.9893992932862191\n",
      "8th Fold :  0.9928571428571429\n",
      "9th Fold :  0.9858156028368794\n",
      "Mean Training F1 Score\n",
      "0.985700910279105\n",
      "Validation Accuracy scores\n",
      "0th Fold :  0.9428571428571428\n",
      "1th Fold :  0.8857142857142857\n",
      "2th Fold :  0.9142857142857143\n",
      "3th Fold :  0.8571428571428571\n",
      "4th Fold :  0.9411764705882353\n",
      "5th Fold :  0.9117647058823529\n",
      "6th Fold :  0.9393939393939394\n",
      "7th Fold :  0.9393939393939394\n",
      "8th Fold :  0.9696969696969697\n",
      "9th Fold :  0.9090909090909091\n",
      "Mean Validation Accuracy\n",
      "92.10516934046345\n",
      "Validation Precision scores\n",
      "0th Fold :  0.8888888888888888\n",
      "1th Fold :  0.8333333333333334\n",
      "2th Fold :  0.8823529411764706\n",
      "3th Fold :  0.8666666666666667\n",
      "4th Fold :  0.8888888888888888\n",
      "5th Fold :  0.9333333333333333\n",
      "6th Fold :  1.0\n",
      "7th Fold :  0.9333333333333333\n",
      "8th Fold :  1.0\n",
      "9th Fold :  0.9285714285714286\n",
      "Mean Validation Precision\n",
      "0.9155368814192345\n",
      "Validation Recall scores\n",
      "0th Fold :  1.0\n",
      "1th Fold :  0.9375\n",
      "2th Fold :  0.9375\n",
      "3th Fold :  0.8125\n",
      "4th Fold :  1.0\n",
      "5th Fold :  0.875\n",
      "6th Fold :  0.8666666666666667\n",
      "7th Fold :  0.9333333333333333\n",
      "8th Fold :  0.9333333333333333\n",
      "9th Fold :  0.8666666666666667\n",
      "Mean Validation Recall\n",
      "0.91625\n",
      "Validation F1 scores\n",
      "0th Fold :  0.9411764705882353\n",
      "1th Fold :  0.8823529411764706\n",
      "2th Fold :  0.9090909090909091\n",
      "3th Fold :  0.8387096774193549\n",
      "4th Fold :  0.9411764705882353\n",
      "5th Fold :  0.9032258064516129\n",
      "6th Fold :  0.9285714285714286\n",
      "7th Fold :  0.9333333333333333\n",
      "8th Fold :  0.9655172413793104\n",
      "9th Fold :  0.896551724137931\n",
      "Mean Validation F1 Score\n",
      "0.913970600273682\n"
     ]
    }
   ],
   "source": [
    "clf = MultinomialNB()\n",
    "cross_validation_wrapper(str_list, tags, 'bow', 0.0, clf)"
   ]
  },
  {
   "cell_type": "code",
   "execution_count": 344,
   "metadata": {},
   "outputs": [
    {
     "name": "stdout",
     "output_type": "stream",
     "text": [
      "Accuracy = 0.8823529411764706\n",
      "Classification Report\n",
      "             precision    recall  f1-score   support\n",
      "\n",
      "          0       0.94      0.85      0.89        39\n",
      "          1       0.82      0.93      0.87        29\n",
      "\n",
      "avg / total       0.89      0.88      0.88        68\n",
      "\n"
     ]
    },
    {
     "data": {
      "image/png": "[encoded data removed]",
      "text/plain": [
       "<Figure size 360x360 with 2 Axes>"
      ]
     },
     "metadata": {
      "needs_background": "light"
     },
     "output_type": "display_data"
    }
   ],
   "source": [
    "clf = MultinomialNB()\n",
    "trainModel(clf, str_list, tags, 'bow', 0.2)"
   ]
  },
  {
   "cell_type": "markdown",
   "metadata": {},
   "source": [
    "### TF-IDF"
   ]
  },
  {
   "cell_type": "code",
   "execution_count": 322,
   "metadata": {},
   "outputs": [
    {
     "name": "stdout",
     "output_type": "stream",
     "text": [
      "Training Accuracy scores\n",
      "0th Fold :  0.9737704918032787\n",
      "1th Fold :  0.9672131147540983\n",
      "2th Fold :  0.9737704918032787\n",
      "3th Fold :  0.980327868852459\n",
      "4th Fold :  0.9705882352941176\n",
      "5th Fold :  0.9673202614379085\n",
      "6th Fold :  0.9804560260586319\n",
      "7th Fold :  0.9804560260586319\n",
      "8th Fold :  0.9771986970684039\n",
      "9th Fold :  0.9739413680781759\n",
      "Mean Training Accuracy\n",
      "97.45042581208985\n",
      "Training Precision scores\n",
      "0th Fold :  0.9925373134328358\n",
      "1th Fold :  0.9924242424242424\n",
      "2th Fold :  1.0\n",
      "3th Fold :  0.9926470588235294\n",
      "4th Fold :  0.9924812030075187\n",
      "5th Fold :  0.9924242424242424\n",
      "6th Fold :  0.9927007299270073\n",
      "7th Fold :  0.9927007299270073\n",
      "8th Fold :  0.9926470588235294\n",
      "9th Fold :  0.9925925925925926\n",
      "Mean Training Precision\n",
      "0.9933155171382506\n",
      "Training Recall scores\n",
      "0th Fold :  0.95\n",
      "1th Fold :  0.9357142857142857\n",
      "2th Fold :  0.9428571428571428\n",
      "3th Fold :  0.9642857142857143\n",
      "4th Fold :  0.9428571428571428\n",
      "5th Fold :  0.9357142857142857\n",
      "6th Fold :  0.9645390070921985\n",
      "7th Fold :  0.9645390070921985\n",
      "8th Fold :  0.9574468085106383\n",
      "9th Fold :  0.950354609929078\n",
      "Mean Training Recall\n",
      "0.9508308004052685\n",
      "Training F1 scores\n",
      "0th Fold :  0.9708029197080291\n",
      "1th Fold :  0.9632352941176471\n",
      "2th Fold :  0.9705882352941176\n",
      "3th Fold :  0.9782608695652174\n",
      "4th Fold :  0.967032967032967\n",
      "5th Fold :  0.9632352941176471\n",
      "6th Fold :  0.9784172661870503\n",
      "7th Fold :  0.9784172661870503\n",
      "8th Fold :  0.9747292418772563\n",
      "9th Fold :  0.9710144927536232\n",
      "Mean Training F1 Score\n",
      "0.9715733846840605\n",
      "Validation Accuracy scores\n",
      "0th Fold :  0.9428571428571428\n",
      "1th Fold :  0.8857142857142857\n",
      "2th Fold :  0.8571428571428571\n",
      "3th Fold :  0.9142857142857143\n",
      "4th Fold :  0.8823529411764706\n",
      "5th Fold :  0.8823529411764706\n",
      "6th Fold :  0.9090909090909091\n",
      "7th Fold :  0.8181818181818182\n",
      "8th Fold :  0.9090909090909091\n",
      "9th Fold :  0.9090909090909091\n",
      "Mean Validation Accuracy\n",
      "89.10160427807486\n",
      "Validation Precision scores\n",
      "0th Fold :  1.0\n",
      "1th Fold :  0.9285714285714286\n",
      "2th Fold :  0.9230769230769231\n",
      "3th Fold :  1.0\n",
      "4th Fold :  0.875\n",
      "5th Fold :  0.9285714285714286\n",
      "6th Fold :  1.0\n",
      "7th Fold :  0.9090909090909091\n",
      "8th Fold :  1.0\n",
      "9th Fold :  0.9285714285714286\n",
      "Mean Validation Precision\n",
      "0.9492882117882118\n",
      "Validation Recall scores\n",
      "0th Fold :  0.875\n",
      "1th Fold :  0.8125\n",
      "2th Fold :  0.75\n",
      "3th Fold :  0.8125\n",
      "4th Fold :  0.875\n",
      "5th Fold :  0.8125\n",
      "6th Fold :  0.8\n",
      "7th Fold :  0.6666666666666666\n",
      "8th Fold :  0.8\n",
      "9th Fold :  0.8666666666666667\n",
      "Mean Validation Recall\n",
      "0.8070833333333333\n",
      "Validation F1 scores\n",
      "0th Fold :  0.9333333333333333\n",
      "1th Fold :  0.8666666666666666\n",
      "2th Fold :  0.8275862068965517\n",
      "3th Fold :  0.896551724137931\n",
      "4th Fold :  0.875\n",
      "5th Fold :  0.8666666666666666\n",
      "6th Fold :  0.888888888888889\n",
      "7th Fold :  0.7692307692307692\n",
      "8th Fold :  0.888888888888889\n",
      "9th Fold :  0.896551724137931\n",
      "Mean Validation F1 Score\n",
      "0.8709364868847628\n"
     ]
    }
   ],
   "source": [
    "clf = MultinomialNB()\n",
    "cross_validation_wrapper(str_list, tags, 'tfidf', 0.0, clf)"
   ]
  },
  {
   "cell_type": "code",
   "execution_count": 346,
   "metadata": {},
   "outputs": [
    {
     "name": "stdout",
     "output_type": "stream",
     "text": [
      "Accuracy = 0.8823529411764706\n",
      "Classification Report\n",
      "             precision    recall  f1-score   support\n",
      "\n",
      "          0       0.88      0.92      0.90        39\n",
      "          1       0.89      0.83      0.86        29\n",
      "\n",
      "avg / total       0.88      0.88      0.88        68\n",
      "\n"
     ]
    },
    {
     "data": {
      "image/png": "[encoded data removed]",
      "text/plain": [
       "<Figure size 360x360 with 2 Axes>"
      ]
     },
     "metadata": {
      "needs_background": "light"
     },
     "output_type": "display_data"
    }
   ],
   "source": [
    "clf = MultinomialNB()\n",
    "trainModel(clf, str_list, tags, 'tfidf', 0.2)"
   ]
  },
  {
   "cell_type": "markdown",
   "metadata": {},
   "source": [
    "## DECISION TREE"
   ]
  },
  {
   "cell_type": "markdown",
   "metadata": {},
   "source": [
    "### BOW"
   ]
  },
  {
   "cell_type": "code",
   "execution_count": 347,
   "metadata": {},
   "outputs": [
    {
     "name": "stdout",
     "output_type": "stream",
     "text": [
      "Training Accuracy scores\n",
      "0th Fold :  1.0\n",
      "1th Fold :  1.0\n",
      "2th Fold :  1.0\n",
      "3th Fold :  1.0\n",
      "4th Fold :  1.0\n",
      "5th Fold :  1.0\n",
      "6th Fold :  1.0\n",
      "7th Fold :  1.0\n",
      "8th Fold :  1.0\n",
      "9th Fold :  1.0\n",
      "Mean Training Accuracy\n",
      "100.0\n",
      "Training Precision scores\n",
      "0th Fold :  1.0\n",
      "1th Fold :  1.0\n",
      "2th Fold :  1.0\n",
      "3th Fold :  1.0\n",
      "4th Fold :  1.0\n",
      "5th Fold :  1.0\n",
      "6th Fold :  1.0\n",
      "7th Fold :  1.0\n",
      "8th Fold :  1.0\n",
      "9th Fold :  1.0\n",
      "Mean Training Precision\n",
      "1.0\n",
      "Training Recall scores\n",
      "0th Fold :  1.0\n",
      "1th Fold :  1.0\n",
      "2th Fold :  1.0\n",
      "3th Fold :  1.0\n",
      "4th Fold :  1.0\n",
      "5th Fold :  1.0\n",
      "6th Fold :  1.0\n",
      "7th Fold :  1.0\n",
      "8th Fold :  1.0\n",
      "9th Fold :  1.0\n",
      "Mean Training Recall\n",
      "1.0\n",
      "Training F1 scores\n",
      "0th Fold :  1.0\n",
      "1th Fold :  1.0\n",
      "2th Fold :  1.0\n",
      "3th Fold :  1.0\n",
      "4th Fold :  1.0\n",
      "5th Fold :  1.0\n",
      "6th Fold :  1.0\n",
      "7th Fold :  1.0\n",
      "8th Fold :  1.0\n",
      "9th Fold :  1.0\n",
      "Mean Training F1 Score\n",
      "1.0\n",
      "Validation Accuracy scores\n",
      "0th Fold :  0.9428571428571428\n",
      "1th Fold :  0.9428571428571428\n",
      "2th Fold :  0.8857142857142857\n",
      "3th Fold :  0.9428571428571428\n",
      "4th Fold :  0.9411764705882353\n",
      "5th Fold :  0.9117647058823529\n",
      "6th Fold :  0.9090909090909091\n",
      "7th Fold :  0.8484848484848485\n",
      "8th Fold :  0.8787878787878788\n",
      "9th Fold :  0.9393939393939394\n",
      "Mean Validation Accuracy\n",
      "91.42984466513879\n",
      "Validation Precision scores\n",
      "0th Fold :  0.9375\n",
      "1th Fold :  0.8888888888888888\n",
      "2th Fold :  0.8333333333333334\n",
      "3th Fold :  0.8888888888888888\n",
      "4th Fold :  0.8888888888888888\n",
      "5th Fold :  0.9333333333333333\n",
      "6th Fold :  0.875\n",
      "7th Fold :  0.8571428571428571\n",
      "8th Fold :  0.8666666666666667\n",
      "9th Fold :  0.8823529411764706\n",
      "Mean Validation Precision\n",
      "0.885199579831933\n",
      "Validation Recall scores\n",
      "0th Fold :  0.9375\n",
      "1th Fold :  1.0\n",
      "2th Fold :  0.9375\n",
      "3th Fold :  1.0\n",
      "4th Fold :  1.0\n",
      "5th Fold :  0.875\n",
      "6th Fold :  0.9333333333333333\n",
      "7th Fold :  0.8\n",
      "8th Fold :  0.8666666666666667\n",
      "9th Fold :  1.0\n",
      "Mean Validation Recall\n",
      "0.9349999999999999\n",
      "Validation F1 scores\n",
      "0th Fold :  0.9375\n",
      "1th Fold :  0.9411764705882353\n",
      "2th Fold :  0.8823529411764706\n",
      "3th Fold :  0.9411764705882353\n",
      "4th Fold :  0.9411764705882353\n",
      "5th Fold :  0.9032258064516129\n",
      "6th Fold :  0.9032258064516129\n",
      "7th Fold :  0.8275862068965518\n",
      "8th Fold :  0.8666666666666667\n",
      "9th Fold :  0.9375\n",
      "Mean Validation F1 Score\n",
      "0.908158683940762\n"
     ]
    }
   ],
   "source": [
    "dtc = DecisionTreeClassifier()\n",
    "cross_validation_wrapper(str_list,tags,'bow',0.0, dtc)"
   ]
  },
  {
   "cell_type": "code",
   "execution_count": 349,
   "metadata": {},
   "outputs": [
    {
     "name": "stdout",
     "output_type": "stream",
     "text": [
      "Accuracy = 0.8970588235294118\n",
      "Classification Report\n",
      "             precision    recall  f1-score   support\n",
      "\n",
      "          0       0.95      0.88      0.92        43\n",
      "          1       0.82      0.92      0.87        25\n",
      "\n",
      "avg / total       0.90      0.90      0.90        68\n",
      "\n"
     ]
    },
    {
     "data": {
      "image/png": "[encoded data removed]",
      "text/plain": [
       "<Figure size 360x360 with 2 Axes>"
      ]
     },
     "metadata": {
      "needs_background": "light"
     },
     "output_type": "display_data"
    }
   ],
   "source": [
    "dtc = DecisionTreeClassifier()\n",
    "trainModel(dtc,str_list, tags, 'bow', 0.2)"
   ]
  },
  {
   "cell_type": "markdown",
   "metadata": {},
   "source": [
    "### TF-IDF"
   ]
  },
  {
   "cell_type": "code",
   "execution_count": 348,
   "metadata": {},
   "outputs": [
    {
     "name": "stdout",
     "output_type": "stream",
     "text": [
      "Training Accuracy scores\n",
      "0th Fold :  1.0\n",
      "1th Fold :  1.0\n",
      "2th Fold :  1.0\n",
      "3th Fold :  1.0\n",
      "4th Fold :  1.0\n",
      "5th Fold :  1.0\n",
      "6th Fold :  1.0\n",
      "7th Fold :  1.0\n",
      "8th Fold :  1.0\n",
      "9th Fold :  1.0\n",
      "Mean Training Accuracy\n",
      "100.0\n",
      "Training Precision scores\n",
      "0th Fold :  1.0\n",
      "1th Fold :  1.0\n",
      "2th Fold :  1.0\n",
      "3th Fold :  1.0\n",
      "4th Fold :  1.0\n",
      "5th Fold :  1.0\n",
      "6th Fold :  1.0\n",
      "7th Fold :  1.0\n",
      "8th Fold :  1.0\n",
      "9th Fold :  1.0\n",
      "Mean Training Precision\n",
      "1.0\n",
      "Training Recall scores\n",
      "0th Fold :  1.0\n",
      "1th Fold :  1.0\n",
      "2th Fold :  1.0\n",
      "3th Fold :  1.0\n",
      "4th Fold :  1.0\n",
      "5th Fold :  1.0\n",
      "6th Fold :  1.0\n",
      "7th Fold :  1.0\n",
      "8th Fold :  1.0\n",
      "9th Fold :  1.0\n",
      "Mean Training Recall\n",
      "1.0\n",
      "Training F1 scores\n",
      "0th Fold :  1.0\n",
      "1th Fold :  1.0\n",
      "2th Fold :  1.0\n",
      "3th Fold :  1.0\n",
      "4th Fold :  1.0\n",
      "5th Fold :  1.0\n",
      "6th Fold :  1.0\n",
      "7th Fold :  1.0\n",
      "8th Fold :  1.0\n",
      "9th Fold :  1.0\n",
      "Mean Training F1 Score\n",
      "1.0\n",
      "Validation Accuracy scores\n",
      "0th Fold :  0.8285714285714286\n",
      "1th Fold :  0.9428571428571428\n",
      "2th Fold :  0.6857142857142857\n",
      "3th Fold :  0.9142857142857143\n",
      "4th Fold :  0.9411764705882353\n",
      "5th Fold :  0.8529411764705882\n",
      "6th Fold :  0.9393939393939394\n",
      "7th Fold :  0.9090909090909091\n",
      "8th Fold :  0.8181818181818182\n",
      "9th Fold :  0.8787878787878788\n",
      "Mean Validation Accuracy\n",
      "87.11000763941941\n",
      "Validation Precision scores\n",
      "0th Fold :  0.8125\n",
      "1th Fold :  0.9375\n",
      "2th Fold :  0.6190476190476191\n",
      "3th Fold :  0.9333333333333333\n",
      "4th Fold :  0.8888888888888888\n",
      "5th Fold :  0.7894736842105263\n",
      "6th Fold :  0.9333333333333333\n",
      "7th Fold :  1.0\n",
      "8th Fold :  0.7647058823529411\n",
      "9th Fold :  0.8235294117647058\n",
      "Mean Validation Precision\n",
      "0.8502312152931347\n",
      "Validation Recall scores\n",
      "0th Fold :  0.8125\n",
      "1th Fold :  0.9375\n",
      "2th Fold :  0.8125\n",
      "3th Fold :  0.875\n",
      "4th Fold :  1.0\n",
      "5th Fold :  0.9375\n",
      "6th Fold :  0.9333333333333333\n",
      "7th Fold :  0.8\n",
      "8th Fold :  0.8666666666666667\n",
      "9th Fold :  0.9333333333333333\n",
      "Mean Validation Recall\n",
      "0.8908333333333334\n",
      "Validation F1 scores\n",
      "0th Fold :  0.8125\n",
      "1th Fold :  0.9375\n",
      "2th Fold :  0.7027027027027026\n",
      "3th Fold :  0.9032258064516129\n",
      "4th Fold :  0.9411764705882353\n",
      "5th Fold :  0.8571428571428572\n",
      "6th Fold :  0.9333333333333333\n",
      "7th Fold :  0.888888888888889\n",
      "8th Fold :  0.8125\n",
      "9th Fold :  0.8749999999999999\n",
      "Mean Validation F1 Score\n",
      "0.866397005910763\n"
     ]
    }
   ],
   "source": [
    "dtc = DecisionTreeClassifier()\n",
    "cross_validation_wrapper(str_list,tags,'tfidf',0.0, dtc)\n"
   ]
  },
  {
   "cell_type": "code",
   "execution_count": 350,
   "metadata": {},
   "outputs": [
    {
     "name": "stdout",
     "output_type": "stream",
     "text": [
      "Accuracy = 0.8676470588235294\n",
      "Classification Report\n",
      "             precision    recall  f1-score   support\n",
      "\n",
      "          0       0.94      0.82      0.87        38\n",
      "          1       0.80      0.93      0.86        30\n",
      "\n",
      "avg / total       0.88      0.87      0.87        68\n",
      "\n"
     ]
    },
    {
     "data": {
      "image/png": "[encoded data removed]",
      "text/plain": [
       "<Figure size 360x360 with 2 Axes>"
      ]
     },
     "metadata": {
      "needs_background": "light"
     },
     "output_type": "display_data"
    }
   ],
   "source": [
    "dtc = DecisionTreeClassifier()\n",
    "trainModel(dtc,str_list, tags, 'tfidf', 0.2)"
   ]
  },
  {
   "cell_type": "markdown",
   "metadata": {},
   "source": [
    "## RANDOM FOREST "
   ]
  },
  {
   "cell_type": "markdown",
   "metadata": {},
   "source": [
    "### BOW"
   ]
  },
  {
   "cell_type": "code",
   "execution_count": 352,
   "metadata": {},
   "outputs": [
    {
     "name": "stdout",
     "output_type": "stream",
     "text": [
      "Training Accuracy scores\n",
      "0th Fold :  1.0\n",
      "1th Fold :  0.9967213114754099\n",
      "2th Fold :  1.0\n",
      "3th Fold :  1.0\n",
      "4th Fold :  0.9967320261437909\n",
      "5th Fold :  0.9934640522875817\n",
      "6th Fold :  1.0\n",
      "7th Fold :  1.0\n",
      "8th Fold :  1.0\n",
      "9th Fold :  0.993485342019544\n",
      "Mean Training Accuracy\n",
      "99.80402731926326\n",
      "Training Precision scores\n",
      "0th Fold :  1.0\n",
      "1th Fold :  1.0\n",
      "2th Fold :  1.0\n",
      "3th Fold :  1.0\n",
      "4th Fold :  0.9929078014184397\n",
      "5th Fold :  0.9928571428571429\n",
      "6th Fold :  1.0\n",
      "7th Fold :  1.0\n",
      "8th Fold :  1.0\n",
      "9th Fold :  0.9929078014184397\n",
      "Mean Training Precision\n",
      "0.9978672745694024\n",
      "Training Recall scores\n",
      "0th Fold :  1.0\n",
      "1th Fold :  0.9928571428571429\n",
      "2th Fold :  1.0\n",
      "3th Fold :  1.0\n",
      "4th Fold :  1.0\n",
      "5th Fold :  0.9928571428571429\n",
      "6th Fold :  1.0\n",
      "7th Fold :  1.0\n",
      "8th Fold :  1.0\n",
      "9th Fold :  0.9929078014184397\n",
      "Mean Training Recall\n",
      "0.9978622087132726\n",
      "Training F1 scores\n",
      "0th Fold :  1.0\n",
      "1th Fold :  0.996415770609319\n",
      "2th Fold :  1.0\n",
      "3th Fold :  1.0\n",
      "4th Fold :  0.9964412811387899\n",
      "5th Fold :  0.9928571428571429\n",
      "6th Fold :  1.0\n",
      "7th Fold :  1.0\n",
      "8th Fold :  1.0\n",
      "9th Fold :  0.9929078014184397\n",
      "Mean Training F1 Score\n",
      "0.9978621996023691\n",
      "Validation Accuracy scores\n",
      "0th Fold :  0.8285714285714286\n",
      "1th Fold :  0.9142857142857143\n",
      "2th Fold :  0.9714285714285714\n",
      "3th Fold :  0.9714285714285714\n",
      "4th Fold :  0.8529411764705882\n",
      "5th Fold :  0.7941176470588235\n",
      "6th Fold :  0.9090909090909091\n",
      "7th Fold :  0.9696969696969697\n",
      "8th Fold :  0.8787878787878788\n",
      "9th Fold :  0.8181818181818182\n",
      "Mean Validation Accuracy\n",
      "89.08530685001274\n",
      "Validation Precision scores\n",
      "0th Fold :  0.8571428571428571\n",
      "1th Fold :  0.9333333333333333\n",
      "2th Fold :  1.0\n",
      "3th Fold :  1.0\n",
      "4th Fold :  0.8666666666666667\n",
      "5th Fold :  0.7647058823529411\n",
      "6th Fold :  0.9285714285714286\n",
      "7th Fold :  1.0\n",
      "8th Fold :  1.0\n",
      "9th Fold :  0.8\n",
      "Mean Validation Precision\n",
      "0.9150420168067228\n",
      "Validation Recall scores\n",
      "0th Fold :  0.75\n",
      "1th Fold :  0.875\n",
      "2th Fold :  0.9375\n",
      "3th Fold :  0.9375\n",
      "4th Fold :  0.8125\n",
      "5th Fold :  0.8125\n",
      "6th Fold :  0.8666666666666667\n",
      "7th Fold :  0.9333333333333333\n",
      "8th Fold :  0.7333333333333333\n",
      "9th Fold :  0.8\n",
      "Mean Validation Recall\n",
      "0.8458333333333334\n",
      "Validation F1 scores\n",
      "0th Fold :  0.7999999999999999\n",
      "1th Fold :  0.9032258064516129\n",
      "2th Fold :  0.967741935483871\n",
      "3th Fold :  0.967741935483871\n",
      "4th Fold :  0.8387096774193549\n",
      "5th Fold :  0.787878787878788\n",
      "6th Fold :  0.896551724137931\n",
      "7th Fold :  0.9655172413793104\n",
      "8th Fold :  0.846153846153846\n",
      "9th Fold :  0.8000000000000002\n",
      "Mean Validation F1 Score\n",
      "0.8773520954388585\n"
     ]
    }
   ],
   "source": [
    "rfc = RandomForestClassifier(15)\n",
    "cross_validation_wrapper(str_list,tags,'bow',0.0, rfc)\n"
   ]
  },
  {
   "cell_type": "code",
   "execution_count": 353,
   "metadata": {},
   "outputs": [
    {
     "name": "stdout",
     "output_type": "stream",
     "text": [
      "Accuracy = 0.8382352941176471\n",
      "Classification Report\n",
      "             precision    recall  f1-score   support\n",
      "\n",
      "          0       0.83      0.85      0.84        34\n",
      "          1       0.85      0.82      0.84        34\n",
      "\n",
      "avg / total       0.84      0.84      0.84        68\n",
      "\n"
     ]
    },
    {
     "data": {
      "image/png": "[encoded data removed]",
      "text/plain": [
       "<Figure size 360x360 with 2 Axes>"
      ]
     },
     "metadata": {
      "needs_background": "light"
     },
     "output_type": "display_data"
    }
   ],
   "source": [
    "rfc = RandomForestClassifier(15)\n",
    "trainModel(rfc,str_list, tags, 'bow', 0.2)"
   ]
  },
  {
   "cell_type": "markdown",
   "metadata": {},
   "source": [
    "### TF-IDF"
   ]
  },
  {
   "cell_type": "code",
   "execution_count": 354,
   "metadata": {},
   "outputs": [
    {
     "name": "stdout",
     "output_type": "stream",
     "text": [
      "Training Accuracy scores\n",
      "0th Fold :  1.0\n",
      "1th Fold :  1.0\n",
      "2th Fold :  1.0\n",
      "3th Fold :  0.9967213114754099\n",
      "4th Fold :  1.0\n",
      "5th Fold :  1.0\n",
      "6th Fold :  1.0\n",
      "7th Fold :  1.0\n",
      "8th Fold :  1.0\n",
      "9th Fold :  0.996742671009772\n",
      "Mean Training Accuracy\n",
      "99.93463982485181\n",
      "Training Precision scores\n",
      "0th Fold :  1.0\n",
      "1th Fold :  1.0\n",
      "2th Fold :  1.0\n",
      "3th Fold :  1.0\n",
      "4th Fold :  1.0\n",
      "5th Fold :  1.0\n",
      "6th Fold :  1.0\n",
      "7th Fold :  1.0\n",
      "8th Fold :  1.0\n",
      "9th Fold :  1.0\n",
      "Mean Training Precision\n",
      "1.0\n",
      "Training Recall scores\n",
      "0th Fold :  1.0\n",
      "1th Fold :  1.0\n",
      "2th Fold :  1.0\n",
      "3th Fold :  0.9928571428571429\n",
      "4th Fold :  1.0\n",
      "5th Fold :  1.0\n",
      "6th Fold :  1.0\n",
      "7th Fold :  1.0\n",
      "8th Fold :  1.0\n",
      "9th Fold :  0.9929078014184397\n",
      "Mean Training Recall\n",
      "0.9985764944275584\n",
      "Training F1 scores\n",
      "0th Fold :  1.0\n",
      "1th Fold :  1.0\n",
      "2th Fold :  1.0\n",
      "3th Fold :  0.996415770609319\n",
      "4th Fold :  1.0\n",
      "5th Fold :  1.0\n",
      "6th Fold :  1.0\n",
      "7th Fold :  1.0\n",
      "8th Fold :  1.0\n",
      "9th Fold :  0.9964412811387899\n",
      "Mean Training F1 Score\n",
      "0.9992857051748109\n",
      "Validation Accuracy scores\n",
      "0th Fold :  0.9714285714285714\n",
      "1th Fold :  0.8\n",
      "2th Fold :  0.8285714285714286\n",
      "3th Fold :  0.9428571428571428\n",
      "4th Fold :  0.8823529411764706\n",
      "5th Fold :  0.7647058823529411\n",
      "6th Fold :  0.9393939393939394\n",
      "7th Fold :  0.7878787878787878\n",
      "8th Fold :  0.8484848484848485\n",
      "9th Fold :  0.8181818181818182\n",
      "Mean Validation Accuracy\n",
      "85.83855360325948\n",
      "Validation Precision scores\n",
      "0th Fold :  1.0\n",
      "1th Fold :  0.8461538461538461\n",
      "2th Fold :  0.8125\n",
      "3th Fold :  1.0\n",
      "4th Fold :  0.875\n",
      "5th Fold :  0.7222222222222222\n",
      "6th Fold :  1.0\n",
      "7th Fold :  0.7857142857142857\n",
      "8th Fold :  0.9166666666666666\n",
      "9th Fold :  1.0\n",
      "Mean Validation Precision\n",
      "0.8958257020757021\n",
      "Validation Recall scores\n",
      "0th Fold :  0.9375\n",
      "1th Fold :  0.6875\n",
      "2th Fold :  0.8125\n",
      "3th Fold :  0.875\n",
      "4th Fold :  0.875\n",
      "5th Fold :  0.8125\n",
      "6th Fold :  0.8666666666666667\n",
      "7th Fold :  0.7333333333333333\n",
      "8th Fold :  0.7333333333333333\n",
      "9th Fold :  0.6\n",
      "Mean Validation Recall\n",
      "0.7933333333333332\n",
      "Validation F1 scores\n",
      "0th Fold :  0.967741935483871\n",
      "1th Fold :  0.7586206896551724\n",
      "2th Fold :  0.8125\n",
      "3th Fold :  0.9333333333333333\n",
      "4th Fold :  0.875\n",
      "5th Fold :  0.7647058823529411\n",
      "6th Fold :  0.9285714285714286\n",
      "7th Fold :  0.7586206896551724\n",
      "8th Fold :  0.8148148148148148\n",
      "9th Fold :  0.7499999999999999\n",
      "Mean Validation F1 Score\n",
      "0.8363908773866733\n"
     ]
    }
   ],
   "source": [
    "rfc = RandomForestClassifier(15)\n",
    "cross_validation_wrapper(str_list,tags,'tfidf',0.0, rfc)\n"
   ]
  },
  {
   "cell_type": "code",
   "execution_count": 355,
   "metadata": {},
   "outputs": [
    {
     "name": "stdout",
     "output_type": "stream",
     "text": [
      "Accuracy = 0.8088235294117647\n",
      "Classification Report\n",
      "             precision    recall  f1-score   support\n",
      "\n",
      "          0       0.82      0.85      0.84        39\n",
      "          1       0.79      0.76      0.77        29\n",
      "\n",
      "avg / total       0.81      0.81      0.81        68\n",
      "\n"
     ]
    },
    {
     "data": {
      "image/png": "[encoded data removed]",
      "text/plain": [
       "<Figure size 360x360 with 2 Axes>"
      ]
     },
     "metadata": {
      "needs_background": "light"
     },
     "output_type": "display_data"
    }
   ],
   "source": [
    "rfc = RandomForestClassifier(15)\n",
    "trainModel(rfc,str_list, tags, 'tfidf', 0.2)"
   ]
  },
  {
   "cell_type": "markdown",
   "metadata": {},
   "source": [
    "## SVM"
   ]
  },
  {
   "cell_type": "markdown",
   "metadata": {},
   "source": [
    "### BOW"
   ]
  },
  {
   "cell_type": "code",
   "execution_count": 358,
   "metadata": {},
   "outputs": [
    {
     "name": "stdout",
     "output_type": "stream",
     "text": [
      "Training Accuracy scores\n",
      "0th Fold :  1.0\n",
      "1th Fold :  1.0\n",
      "2th Fold :  1.0\n",
      "3th Fold :  1.0\n",
      "4th Fold :  1.0\n",
      "5th Fold :  1.0\n",
      "6th Fold :  1.0\n",
      "7th Fold :  1.0\n",
      "8th Fold :  1.0\n",
      "9th Fold :  1.0\n",
      "Mean Training Accuracy\n",
      "100.0\n",
      "Training Precision scores\n",
      "0th Fold :  1.0\n",
      "1th Fold :  1.0\n",
      "2th Fold :  1.0\n",
      "3th Fold :  1.0\n",
      "4th Fold :  1.0\n",
      "5th Fold :  1.0\n",
      "6th Fold :  1.0\n",
      "7th Fold :  1.0\n",
      "8th Fold :  1.0\n",
      "9th Fold :  1.0\n",
      "Mean Training Precision\n",
      "1.0\n",
      "Training Recall scores\n",
      "0th Fold :  1.0\n",
      "1th Fold :  1.0\n",
      "2th Fold :  1.0\n",
      "3th Fold :  1.0\n",
      "4th Fold :  1.0\n",
      "5th Fold :  1.0\n",
      "6th Fold :  1.0\n",
      "7th Fold :  1.0\n",
      "8th Fold :  1.0\n",
      "9th Fold :  1.0\n",
      "Mean Training Recall\n",
      "1.0\n",
      "Training F1 scores\n",
      "0th Fold :  1.0\n",
      "1th Fold :  1.0\n",
      "2th Fold :  1.0\n",
      "3th Fold :  1.0\n",
      "4th Fold :  1.0\n",
      "5th Fold :  1.0\n",
      "6th Fold :  1.0\n",
      "7th Fold :  1.0\n",
      "8th Fold :  1.0\n",
      "9th Fold :  1.0\n",
      "Mean Training F1 Score\n",
      "1.0\n",
      "Validation Accuracy scores\n",
      "0th Fold :  0.8857142857142857\n",
      "1th Fold :  0.9142857142857143\n",
      "2th Fold :  0.8857142857142857\n",
      "3th Fold :  0.8285714285714286\n",
      "4th Fold :  0.7941176470588235\n",
      "5th Fold :  0.8529411764705882\n",
      "6th Fold :  0.8181818181818182\n",
      "7th Fold :  0.8181818181818182\n",
      "8th Fold :  0.8484848484848485\n",
      "9th Fold :  0.8484848484848485\n",
      "Mean Validation Accuracy\n",
      "84.9467787114846\n",
      "Validation Precision scores\n",
      "0th Fold :  0.875\n",
      "1th Fold :  0.8421052631578947\n",
      "2th Fold :  0.875\n",
      "3th Fold :  0.8125\n",
      "4th Fold :  0.7368421052631579\n",
      "5th Fold :  0.9230769230769231\n",
      "6th Fold :  0.7368421052631579\n",
      "7th Fold :  1.0\n",
      "8th Fold :  0.8125\n",
      "9th Fold :  0.9166666666666666\n",
      "Mean Validation Precision\n",
      "0.85305330634278\n",
      "Validation Recall scores\n",
      "0th Fold :  0.875\n",
      "1th Fold :  1.0\n",
      "2th Fold :  0.875\n",
      "3th Fold :  0.8125\n",
      "4th Fold :  0.875\n",
      "5th Fold :  0.75\n",
      "6th Fold :  0.9333333333333333\n",
      "7th Fold :  0.6\n",
      "8th Fold :  0.8666666666666667\n",
      "9th Fold :  0.7333333333333333\n",
      "Mean Validation Recall\n",
      "0.8320833333333333\n",
      "Validation F1 scores\n",
      "0th Fold :  0.875\n",
      "1th Fold :  0.9142857142857143\n",
      "2th Fold :  0.875\n",
      "3th Fold :  0.8125\n",
      "4th Fold :  0.7999999999999999\n",
      "5th Fold :  0.8275862068965517\n",
      "6th Fold :  0.8235294117647058\n",
      "7th Fold :  0.7499999999999999\n",
      "8th Fold :  0.8387096774193549\n",
      "9th Fold :  0.8148148148148148\n",
      "Mean Validation F1 Score\n",
      "0.833142582518114\n"
     ]
    }
   ],
   "source": [
    "svc = SVC(kernel = 'linear')\n",
    "cross_validation_wrapper(str_list,tags,'bow',0.0, svc)\n"
   ]
  },
  {
   "cell_type": "code",
   "execution_count": 359,
   "metadata": {},
   "outputs": [
    {
     "name": "stdout",
     "output_type": "stream",
     "text": [
      "Accuracy = 0.8823529411764706\n",
      "Classification Report\n",
      "             precision    recall  f1-score   support\n",
      "\n",
      "          0       0.86      0.95      0.90        40\n",
      "          1       0.92      0.79      0.85        28\n",
      "\n",
      "avg / total       0.89      0.88      0.88        68\n",
      "\n"
     ]
    },
    {
     "data": {
      "image/png": "[encoded data removed]",
      "text/plain": [
       "<Figure size 360x360 with 2 Axes>"
      ]
     },
     "metadata": {
      "needs_background": "light"
     },
     "output_type": "display_data"
    }
   ],
   "source": [
    "svc = SVC(kernel = 'linear')\n",
    "trainModel(svc,str_list, tags, 'bow', 0.2)"
   ]
  },
  {
   "cell_type": "markdown",
   "metadata": {},
   "source": [
    "### TF-IDF"
   ]
  },
  {
   "cell_type": "code",
   "execution_count": 356,
   "metadata": {},
   "outputs": [
    {
     "name": "stdout",
     "output_type": "stream",
     "text": [
      "Training Accuracy scores\n",
      "0th Fold :  0.9967213114754099\n",
      "1th Fold :  0.9934426229508196\n",
      "2th Fold :  0.9967213114754099\n",
      "3th Fold :  0.9967213114754099\n",
      "4th Fold :  0.9967320261437909\n",
      "5th Fold :  0.9967320261437909\n",
      "6th Fold :  0.996742671009772\n",
      "7th Fold :  1.0\n",
      "8th Fold :  0.996742671009772\n",
      "9th Fold :  0.996742671009772\n",
      "Mean Training Accuracy\n",
      "99.67298622693946\n",
      "Training Precision scores\n",
      "0th Fold :  1.0\n",
      "1th Fold :  1.0\n",
      "2th Fold :  1.0\n",
      "3th Fold :  1.0\n",
      "4th Fold :  1.0\n",
      "5th Fold :  1.0\n",
      "6th Fold :  1.0\n",
      "7th Fold :  1.0\n",
      "8th Fold :  1.0\n",
      "9th Fold :  1.0\n",
      "Mean Training Precision\n",
      "1.0\n",
      "Training Recall scores\n",
      "0th Fold :  0.9928571428571429\n",
      "1th Fold :  0.9857142857142858\n",
      "2th Fold :  0.9928571428571429\n",
      "3th Fold :  0.9928571428571429\n",
      "4th Fold :  0.9928571428571429\n",
      "5th Fold :  0.9928571428571429\n",
      "6th Fold :  0.9929078014184397\n",
      "7th Fold :  1.0\n",
      "8th Fold :  0.9929078014184397\n",
      "9th Fold :  0.9929078014184397\n",
      "Mean Training Recall\n",
      "0.9928723404255319\n",
      "Training F1 scores\n",
      "0th Fold :  0.996415770609319\n",
      "1th Fold :  0.9928057553956835\n",
      "2th Fold :  0.996415770609319\n",
      "3th Fold :  0.996415770609319\n",
      "4th Fold :  0.996415770609319\n",
      "5th Fold :  0.996415770609319\n",
      "6th Fold :  0.9964412811387899\n",
      "7th Fold :  1.0\n",
      "8th Fold :  0.9964412811387899\n",
      "9th Fold :  0.9964412811387899\n",
      "Mean Training F1 Score\n",
      "0.9964208451858647\n",
      "Validation Accuracy scores\n",
      "0th Fold :  0.8857142857142857\n",
      "1th Fold :  0.8571428571428571\n",
      "2th Fold :  0.9142857142857143\n",
      "3th Fold :  0.9714285714285714\n",
      "4th Fold :  0.9705882352941176\n",
      "5th Fold :  0.9705882352941176\n",
      "6th Fold :  0.9393939393939394\n",
      "7th Fold :  0.8787878787878788\n",
      "8th Fold :  0.8787878787878788\n",
      "9th Fold :  0.8787878787878788\n",
      "Mean Validation Accuracy\n",
      "91.45505474917239\n",
      "Validation Precision scores\n",
      "0th Fold :  0.9285714285714286\n",
      "1th Fold :  1.0\n",
      "2th Fold :  1.0\n",
      "3th Fold :  1.0\n",
      "4th Fold :  1.0\n",
      "5th Fold :  1.0\n",
      "6th Fold :  0.9333333333333333\n",
      "7th Fold :  1.0\n",
      "8th Fold :  1.0\n",
      "9th Fold :  0.8666666666666667\n",
      "Mean Validation Precision\n",
      "0.972857142857143\n",
      "Validation Recall scores\n",
      "0th Fold :  0.8125\n",
      "1th Fold :  0.6875\n",
      "2th Fold :  0.8125\n",
      "3th Fold :  0.9375\n",
      "4th Fold :  0.9375\n",
      "5th Fold :  0.9375\n",
      "6th Fold :  0.9333333333333333\n",
      "7th Fold :  0.7333333333333333\n",
      "8th Fold :  0.7333333333333333\n",
      "9th Fold :  0.8666666666666667\n",
      "Mean Validation Recall\n",
      "0.8391666666666666\n",
      "Validation F1 scores\n",
      "0th Fold :  0.8666666666666666\n",
      "1th Fold :  0.8148148148148148\n",
      "2th Fold :  0.896551724137931\n",
      "3th Fold :  0.967741935483871\n",
      "4th Fold :  0.967741935483871\n",
      "5th Fold :  0.967741935483871\n",
      "6th Fold :  0.9333333333333333\n",
      "7th Fold :  0.846153846153846\n",
      "8th Fold :  0.846153846153846\n",
      "9th Fold :  0.8666666666666667\n",
      "Mean Validation F1 Score\n",
      "0.8973566704378719\n"
     ]
    }
   ],
   "source": [
    "svc = SVC(kernel = 'linear')\n",
    "cross_validation_wrapper(str_list,tags,'tfidf',0.0, svc)\n"
   ]
  },
  {
   "cell_type": "code",
   "execution_count": 357,
   "metadata": {},
   "outputs": [
    {
     "name": "stdout",
     "output_type": "stream",
     "text": [
      "Accuracy = 0.8823529411764706\n",
      "Classification Report\n",
      "             precision    recall  f1-score   support\n",
      "\n",
      "          0       0.89      0.93      0.91        42\n",
      "          1       0.88      0.81      0.84        26\n",
      "\n",
      "avg / total       0.88      0.88      0.88        68\n",
      "\n"
     ]
    },
    {
     "data": {
      "image/png": "[encoded data removed]",
      "text/plain": [
       "<Figure size 360x360 with 2 Axes>"
      ]
     },
     "metadata": {
      "needs_background": "light"
     },
     "output_type": "display_data"
    }
   ],
   "source": [
    "svc = SVC(kernel = 'linear')\n",
    "trainModel(svc,str_list, tags, 'tfidf', 0.2)"
   ]
  },
  {
   "cell_type": "code",
   "execution_count": null,
   "metadata": {},
   "outputs": [],
   "source": []
  }
 ],
 "metadata": {
  "kernelspec": {
   "display_name": "Python 3",
   "language": "python",
   "name": "python3"
  },
  "language_info": {
   "codemirror_mode": {
    "name": "ipython",
    "version": 3
   },
   "file_extension": ".py",
   "mimetype": "text/x-python",
   "name": "python",
   "nbconvert_exporter": "python",
   "pygments_lexer": "ipython3",
   "version": "3.6.6"
  }
 },
 "nbformat": 4,
 "nbformat_minor": 2
}
