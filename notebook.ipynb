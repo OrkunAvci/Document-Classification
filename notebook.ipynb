{
 "cells": [
  {
   "cell_type": "markdown",
   "metadata": {},
   "source": [
    "# Document Classification\n",
    "\n",
    "To explore the objectives of this project refer to [Read Me.](README.md)\n",
    "\n",
    "If you are running this project for the first time, first make sure you have all the libraries with:\n",
    "```\n",
    "pip install -r requirements.txt\n",
    "```\n",
    "\n",
    "Then run `main.py` to collect online resources with:\n",
    "```\n",
    "py main.py\n",
    "```\n",
    "\n",
    "This notebook deals with classification of posts."
   ]
  },
  {
   "cell_type": "code",
   "execution_count": null,
   "metadata": {},
   "outputs": [],
   "source": []
  }
 ],
 "metadata": {
  "language_info": {
   "name": "python"
  },
  "orig_nbformat": 4
 },
 "nbformat": 4,
 "nbformat_minor": 2
}
